{
 "cells": [
  {
   "cell_type": "markdown",
   "id": "2bac110441a87485",
   "metadata": {},
   "source": [
    "# [★★☆☆☆] Process Ground Motion for Dynamic Analysis\n",
    "\n",
    "In this example, we mainly introduce and discuss different methods to introduce ground motion into response history analyses.\n",
    "For different methods, different considerations shall be taken into account.\n",
    "\n",
    "The ground motion record can be one of acceleration, velocity, or displacement.\n",
    "Depending on how it is collected, it could either be a processed or raw record.\n",
    "Typically, seismometer collects acceleration, and velocity and displacement are derived from acceleration.\n",
    "We assume that analysts are given accelerograms. \n",
    "\n",
    "## EOM\n",
    "\n",
    "The equation of motion is often written as follows, assuming linear elasticity.\n",
    "\n",
    "$$\n",
    "\\mathbf{M}\\ddot{\\mathbf{u}}+\\mathbf{C}\\dot{\\mathbf{u}}+\\mathbf{K}\\mathbf{u}=\\mathbf{f}.\n",
    "$$\n",
    "\n",
    "To incorporate ground motion in the form of acceleration, one can choose the following methods.\n",
    "\n",
    "1.  Apply the acceleration on the upper structure, in the form of inertial force, with the assist of the global mass matrix.\n",
    "    This method involves the global mass matrix $$\\mathbf{M}$$, and assumes $$\\mathbf{M}$$ is constant, or at least remains constant within the time step.\n",
    "2.  Apply the ground motion on the supports.\n",
    "    This method mimics the real-world situation.\n",
    "    The ground motion is applied on the supports, and the structure is allowed to move freely.\n",
    "    Thus, final results contain rigid body motion.\n",
    "    Furthermore, since conventionally displacement is used as the primary unknown, the given acceleration shall be converted to displacement.\n",
    "\n",
    "## Ground Motion as Inertial Force\n",
    "\n",
    "The inertial force can be formulated as follows.\n",
    "\n",
    "$$\n",
    "\\mathbf{f}_g=\\mathbf{M}\\ddot{\\mathbf{u}}_g.\n",
    "$$\n",
    "\n",
    "However, when applied in the form of force, there is a risk of unintended spurious force.\n",
    "One can refer to the paper [10.1080/13632469.2024.2372814](https://doi.org/10.1080/13632469.2024.2372814) for more details.\n",
    "The conclusion is that, one shall always process the ground motion based on the time step size used in response history analysis, regardless of the source of the ground motion, processed or raw.\n",
    "\n",
    "## Ground Motion as Support Displacement\n",
    "\n",
    "The ground motion can also be applied on the supports.\n",
    "In this case, the ground motion is converted to displacement.\n",
    "But how?\n",
    "Naturally, acceleration shall be integrated twice to obtain displacement.\n",
    "However, the integration process is not straightforward.\n",
    "Furthermore, not any integration method is suitable for this purpose.\n",
    "\n",
    "## Example"
   ]
  },
  {
   "cell_type": "code",
   "id": "b83c3a5400383b5b",
   "metadata": {},
   "source": [
    "import json\n",
    "\n",
    "import numpy as np\n",
    "\n",
    "with open('process-ground-motion.json', 'r') as f:\n",
    "    record = json.load(f)\n",
    "\n",
    "waveform = np.array(record['raw_data'], dtype=float)\n",
    "waveform /= max(abs(waveform))\n",
    "dt = record['time_interval']\n",
    "duration = dt * len(waveform)"
   ],
   "outputs": [],
   "execution_count": null
  },
  {
   "cell_type": "markdown",
   "id": "47e2d06e33a1ece1",
   "metadata": {},
   "source": [
    "Let's peek at the ground motion record."
   ]
  },
  {
   "cell_type": "code",
   "id": "ee96e41253792b14",
   "metadata": {},
   "source": [
    "import matplotlib.pyplot as plt\n",
    "\n",
    "\n",
    "def plot_waveform(_dt, _waveform):\n",
    "    plt.plot(np.arange(0, _dt * len(_waveform), _dt), _waveform)\n",
    "    plt.xlabel('Time [s]')\n",
    "    plt.ylabel('Acceleration')\n",
    "    plt.grid(True)\n",
    "\n",
    "\n",
    "plot_waveform(dt, waveform)"
   ],
   "outputs": [],
   "execution_count": null
  },
  {
   "cell_type": "markdown",
   "id": "f21bbcac7d2819",
   "metadata": {},
   "source": [
    "Let's also check the frequency content of the ground motion.\n",
    "It can be done by Fourier transform."
   ]
  },
  {
   "cell_type": "code",
   "id": "4d18e3fe7266dedc",
   "metadata": {},
   "source": [
    "from scipy.fft import rfft, rfftfreq\n",
    "\n",
    "\n",
    "def plot_freq(_dt, _waveform):\n",
    "    n = len(_waveform)\n",
    "    frequencies = rfftfreq(n, _dt)\n",
    "    fft_values = 2 * np.abs(rfft(_waveform)) / n\n",
    "\n",
    "    plt.plot(frequencies, fft_values)\n",
    "    plt.xlabel('Frequency [Hz]')\n",
    "    plt.ylabel('Amplitude')\n",
    "    plt.yscale('log')\n",
    "    plt.grid(True)\n",
    "\n",
    "\n",
    "plot_freq(dt, waveform)"
   ],
   "outputs": [],
   "execution_count": null
  },
  {
   "cell_type": "markdown",
   "id": "fc88a67deac98aec",
   "metadata": {},
   "source": [
    "It appears that the provided ground motion has been filtered using a band-pass filter.\n",
    "The frequency content above 50 Hz is significantly reduced.\n",
    "\n",
    "This ground motion is sampled at 200 Hz, with an interval of 0.005 s.\n",
    "If it is used in a response history analysis with a time step of 0.005 s, the ground motion shall be processed.\n",
    "The de facto method is to perform linear interpolation."
   ]
  },
  {
   "cell_type": "code",
   "id": "475dd4f999d3f48d",
   "metadata": {},
   "source": [
    "from scipy.interpolate import interp1d\n",
    "\n",
    "interp_func = interp1d(np.arange(0, duration, dt), waveform)\n",
    "\n",
    "\n",
    "def upsample(n):\n",
    "    _dt = dt / n\n",
    "    return _dt, interp_func(np.arange(0, duration - dt, _dt))\n",
    "\n",
    "\n",
    "interp_dt, interp_waveform = upsample(10)\n",
    "plot_freq(interp_dt, interp_waveform)"
   ],
   "outputs": [],
   "execution_count": null
  },
  {
   "cell_type": "markdown",
   "id": "f3aeb8c74eca6a1b",
   "metadata": {},
   "source": [
    "From the graph, one shall see that the interpolated acceleration contain significantly large components beyond the original 100 Hz.\n",
    "It is thus concluded that ***significant spurious response may be present***.\n",
    "\n",
    "The ground motion can also be converted to displacement by using cumulative integration."
   ]
  },
  {
   "cell_type": "code",
   "id": "17f94ee4505e4a29",
   "metadata": {},
   "source": [
    "from scipy.integrate import cumulative_trapezoid\n",
    "\n",
    "disp = cumulative_trapezoid(cumulative_trapezoid(waveform, dx=dt), dx=dt)\n",
    "\n",
    "plot_waveform(dt, disp)"
   ],
   "outputs": [],
   "execution_count": null
  },
  {
   "cell_type": "markdown",
   "id": "b57fe55bbaba866d",
   "metadata": {},
   "source": [
    "What acceleration would such a displacement produce if the Newmark method is used?"
   ]
  },
  {
   "cell_type": "code",
   "id": "1d22160efc1c4057",
   "metadata": {},
   "source": [
    "def newmark(displacement, interval, gamma=.5, beta=.25):\n",
    "    acceleration: np.ndarray = np.zeros_like(displacement)\n",
    "    velocity: np.ndarray = np.zeros_like(displacement)\n",
    "    for i in range(1, len(displacement)):\n",
    "        acceleration[i] = (displacement[i] - displacement[i - 1] - interval * velocity[i - 1] - (\n",
    "                0.5 - beta) * interval ** 2 * acceleration[i - 1]) / beta / interval ** 2\n",
    "        velocity[i] = velocity[i - 1] + (1.0 - gamma) * interval * acceleration[i - 1] + gamma * interval * \\\n",
    "                      acceleration[i]\n",
    "    return acceleration\n",
    "\n",
    "\n",
    "acc = newmark(disp, dt)\n",
    "\n",
    "plot_freq(dt, waveform)\n",
    "plot_freq(dt, acc)\n",
    "plt.legend(['Original', 'Trap -> Newmark'])\n",
    "pass"
   ],
   "outputs": [],
   "execution_count": null
  },
  {
   "cell_type": "markdown",
   "id": "84885ff8",
   "metadata": {},
   "source": [
    "In the above, we use Newmark method to compute the acceleration that corresponds to the integrated displacement.\n",
    "By comparing two accelerations records (original ground motion and converted from the integrated displacement), we could see some slight differences.\n",
    "Such differences appear to be negligible.\n",
    "\n",
    "However, if the acceleration is linearly interpolated, what would such a process bring?"
   ]
  },
  {
   "cell_type": "code",
   "id": "df1e929947c8320e",
   "metadata": {},
   "source": [
    "from scipy.integrate import cumulative_simpson\n",
    "\n",
    "\n",
    "def double_convert(_dt, _waveform):\n",
    "    return newmark(cumulative_simpson(cumulative_simpson(_waveform, dx=_dt), dx=_dt), _dt)\n",
    "\n",
    "\n",
    "plot_freq(interp_dt, interp_waveform)\n",
    "plot_freq(interp_dt, double_convert(interp_dt, interp_waveform))\n",
    "plt.legend(['Original', 'Trap -> Newmark'])\n",
    "pass"
   ],
   "outputs": [],
   "execution_count": null
  },
  {
   "cell_type": "markdown",
   "id": "e07d9b3d",
   "metadata": {},
   "source": [
    "It seems the high frequency noise is significantly larger if the acceleration is integrated using an arbitrary integration method.\n",
    "Let's choose a different upsampling rate."
   ]
  },
  {
   "metadata": {},
   "cell_type": "code",
   "source": [
    "interp_dt, interp_waveform = upsample(2)\n",
    "plot_freq(interp_dt, interp_waveform)\n",
    "plot_freq(interp_dt, double_convert(interp_dt, interp_waveform))\n",
    "plt.legend(['Original', 'Trap -> Newmark'])\n",
    "pass"
   ],
   "id": "f3e9640253d19d9e",
   "outputs": [],
   "execution_count": null
  },
  {
   "metadata": {},
   "cell_type": "markdown",
   "source": [
    "From the figure, one can assert that, if the structure responds to 200 Hz signals, the response could be significant as by choosing to integrate the acceleration using a method that is different from the one used in response history analysis (here, the Newmark method).\n",
    "\n",
    "## Remarks\n",
    "\n",
    "In the above example, we have demonstrated two things.\n",
    "\n",
    "1.  As discussed in [10.1080/13632469.2024.2372814](https://doi.org/10.1080/13632469.2024.2372814), when ground motion is applied in the form of inertial force, linear interpolation of acceleration introduces high frequency noise, the amplitude of which could be relatively large. This would introduce spurious responses.\n",
    "2.  When ground motion is applied in the form of support displacement, an inconsistent integration method that is used to integrate acceleration to displacement could introduce high frequency noise as well, if the integration method is different from the one used in response history analysis. This type of spurious response is not significant if the acceleration is not linear interpolated.\n",
    "\n",
    "In conclusion, analysts shall be aware of two things.\n",
    "\n",
    "1.  Linear interpolation is bad. It shall be avoided, or at least cannot be used alone.\n",
    "2.  When converting acceleration to displacement, or vice versa, the integration method shall be consistent with the one used in response history analysis.\n",
    "\n",
    "No matter what, the applied load, in the form of either inertial force or support displacement, shall be processed based on the time step size used in response history analysis."
   ],
   "id": "2eb2d719943420ae"
  }
 ],
 "metadata": {
  "kernelspec": {
   "display_name": "Python 3",
   "language": "python",
   "name": "python3"
  },
  "language_info": {
   "codemirror_mode": {
    "name": "ipython",
    "version": 3
   },
   "file_extension": ".py",
   "mimetype": "text/x-python",
   "name": "python",
   "nbconvert_exporter": "python",
   "pygments_lexer": "ipython3",
   "version": "3.11.9"
  }
 },
 "nbformat": 4,
 "nbformat_minor": 5
}
