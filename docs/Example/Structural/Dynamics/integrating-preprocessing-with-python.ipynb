{
 "cells": [
  {
   "cell_type": "markdown",
   "metadata": {},
   "source": [
    "# [★★★★★] Integrating Preprocessing with Python\n",
    "\n",
    "Minimum version: v2.5\n",
    "\n",
    "In this example, we demonstrate how to use python to preprocess data by creating a frame structure. This example requires some Python familiarity. However, as we are developing a frame structure which contains mainly frame elements, the procedure is relatively straightforward.\n",
    "\n",
    "## Objective\n",
    "\n",
    "We are going to create a three--storey frame as shown below.\n",
    "\n",
    "![three storey frame](three-storey-frame.svg)"
   ]
  },
  {
   "cell_type": "markdown",
   "metadata": {
    "collapsed": false
   },
   "source": [
    "## Prerequisites\n",
    "\n",
    "We are going to find section properties from AISC table, which is available online."
   ]
  },
  {
   "cell_type": "code",
   "execution_count": 1,
   "metadata": {},
   "outputs": [
    {
     "name": "stdout",
     "output_type": "stream",
     "text": [
      "Database v15.0\n",
      "  Type EDI_Std_Nomenclature AISC_Manual_Label T_F      W      A     d    ddet  \\\n",
      "0    W              W44X335           W44X335   F  335.0   98.5    44      44   \n",
      "1    W              W44X290           W44X290   F  290.0   85.4  43.6  43.625   \n",
      "2    W              W44X262           W44X262   F  262.0   77.2  43.3   43.25   \n",
      "3    W              W44X230           W44X230   F  230.0   67.8  42.9  42.875   \n",
      "4    W              W40X655           W40X655   T  655.0  193.0  43.6  43.625   \n",
      "\n",
      "  Ht  h  ...   rts    ho   PA PA2   PB   PC   PD   T  WGi WGo  \n",
      "0  –  –  ...  4.24  42.2  132   –  148  104  120  38  5.5   –  \n",
      "1  –  –  ...   4.2    42  131   –  147  103  119  38  5.5   –  \n",
      "2  –  –  ...  4.17  41.9  131   –  147  102  118  38  5.5   –  \n",
      "3  –  –  ...  4.13  41.7  130   –  146  102  118  38  5.5   –  \n",
      "4  –  –  ...  4.71  40.1  132   –  149  104  121  34  7.5   –  \n",
      "\n",
      "[5 rows x 84 columns]\n"
     ]
    }
   ],
   "source": [
    "import pandas\n",
    "\n",
    "section_table = pandas.read_excel(\n",
    "    'https://www.aisc.org/globalassets/aisc/manual/v15.0-shapes-database/aisc-shapes-database-v15.0.xlsx',\n",
    "    sheet_name=1,\n",
    "    storage_options={'User-Agent': 'Mozilla/5.0'},\n",
    "    usecols='A:CF')\n",
    "print(section_table.head())"
   ]
  },
  {
   "cell_type": "markdown",
   "metadata": {},
   "source": [
    "Section properties such as area and moment of inertia can be extracted from this table using section designations. It is possible to define such a function now."
   ]
  },
  {
   "cell_type": "code",
   "execution_count": 2,
   "metadata": {},
   "outputs": [],
   "source": [
    "def from_table(designation: str):\n",
    "    index = section_table.index[section_table['AISC_Manual_Label'] == designation].tolist()\n",
    "    assert len(index) == 1\n",
    "    a = section_table.at[index[0], 'A']  # area\n",
    "    sx = section_table.at[index[0], 'Sx']  # elastic modulus\n",
    "    ix = section_table.at[index[0], 'Ix']  # moment of inertia\n",
    "    zx = section_table.at[index[0], 'Zx']  # plastic modulus\n",
    "    return a, sx, ix, zx"
   ]
  },
  {
   "cell_type": "markdown",
   "metadata": {},
   "source": [
    "Then we can use this function to extract section properties from the table. For example,"
   ]
  },
  {
   "cell_type": "code",
   "execution_count": 3,
   "metadata": {},
   "outputs": [
    {
     "name": "stdout",
     "output_type": "stream",
     "text": [
      "(67.8, 971.0, 20800.0, 1100.0)\n"
     ]
    }
   ],
   "source": [
    "print(from_table('W44X230'))"
   ]
  },
  {
   "cell_type": "markdown",
   "metadata": {},
   "source": [
    "## Geometry of the Frame Structure\n",
    "\n",
    "For simplicity, we assume the frame structure has the same column/beam section for all the columns/beams on the same floor. Under such a condition, two lists of section designations can be provided so that elements can be created. Similarly, geometry information such as floor height, bay span, as well as floor mass, can be provided in the same way.\n",
    "\n",
    "For example, we can define several lists as follows."
   ]
  },
  {
   "cell_type": "code",
   "execution_count": 4,
   "metadata": {},
   "outputs": [],
   "source": [
    "girder = ['W21X68', 'W21X68', 'W21X68']  # floor 1 2 3\n",
    "column = ['W14X193', 'W14X159', 'W14X159']  # column 1 2 3\n",
    "mass = [10., 10., 10.]  # floor 1 2 3\n",
    "span = [240., 240.]  # bay span 1 2\n",
    "height = [120., 120., 120.]  # floor height 1 2 3"
   ]
  },
  {
   "cell_type": "markdown",
   "metadata": {},
   "source": [
    "### Generate Node Grid\n",
    "\n",
    "Given that span and height are given, it is possible to calculate the absolute position of the nodes."
   ]
  },
  {
   "cell_type": "code",
   "execution_count": 5,
   "metadata": {},
   "outputs": [
    {
     "name": "stdout",
     "output_type": "stream",
     "text": [
      "[  0. 240. 480.] [  0. 120. 240. 360.]\n"
     ]
    }
   ],
   "source": [
    "import numpy as np\n",
    "\n",
    "x_coor = np.cumsum(span)\n",
    "y_coor = np.cumsum(height)\n",
    "x_coor = np.insert(x_coor, 0, 0.)\n",
    "y_coor = np.insert(y_coor, 0, 0.)\n",
    "print(x_coor, y_coor)\n",
    "\n",
    "del span, height"
   ]
  },
  {
   "cell_type": "markdown",
   "metadata": {},
   "source": [
    "By using the above coordinates, we can create a grid of nodes. A simple `Node` class is defined to represent nodes."
   ]
  },
  {
   "cell_type": "code",
   "execution_count": 6,
   "metadata": {},
   "outputs": [
    {
     "name": "stdout",
     "output_type": "stream",
     "text": [
      "node 1 0.00 0.00\n",
      "node 2 0.00 120.00\n",
      "node 3 0.00 240.00\n",
      "node 4 0.00 360.00\n",
      "node 5 240.00 0.00\n",
      "node 6 240.00 120.00\n",
      "node 7 240.00 240.00\n",
      "node 8 240.00 360.00\n",
      "node 9 480.00 0.00\n",
      "node 10 480.00 120.00\n",
      "node 11 480.00 240.00\n",
      "node 12 480.00 360.00\n",
      "\n"
     ]
    }
   ],
   "source": [
    "from dataclasses import dataclass\n",
    "\n",
    "\n",
    "@dataclass\n",
    "class Node:\n",
    "    tag: int\n",
    "    x: float\n",
    "    y: float\n",
    "\n",
    "    def write_to(self, f_handler):\n",
    "        f_handler.write(f'node {self.tag} {self.x:.2f} {self.y:.2f}\\n')\n",
    "\n",
    "\n",
    "node_pool: dict = {}\n",
    "\n",
    "node_grid = np.zeros((len(y_coor), len(x_coor))).astype(int)\n",
    "\n",
    "node_tag = 1\n",
    "with open('node.sp', 'w') as f:\n",
    "    for i in range(len(x_coor)):\n",
    "        for j in range(len(y_coor)):\n",
    "            node = Node(node_tag, x_coor[i], y_coor[j])\n",
    "            node.write_to(f)\n",
    "            node_pool[node_tag] = node\n",
    "            node_grid[j, i] = node_tag\n",
    "            node_tag += 1\n",
    "del node_tag\n",
    "\n",
    "with open('node.sp', 'r') as f:\n",
    "    print(f.read())"
   ]
  },
  {
   "cell_type": "markdown",
   "metadata": {},
   "source": [
    "The `node_grid` can be used to generate elements.\n",
    "\n",
    "### Generate Beam Elements\n",
    "\n",
    "Starting with the second row, beam elements can be generated by looping over each row."
   ]
  },
  {
   "cell_type": "code",
   "execution_count": 7,
   "metadata": {},
   "outputs": [
    {
     "name": "stdout",
     "output_type": "stream",
     "text": [
      "section NM2D3 1 5.8000e+02 4.2920e+04 1.0000e+00 7.0000e+00 1.15 0.01 0. 0. 0.1429 1. 0.\n",
      "element NMB21 1 2 6 1\n",
      "element NMB21 2 6 10 1\n",
      "section NM2D3 2 5.8000e+02 4.2920e+04 1.0000e+00 7.0000e+00 1.15 0.01 0. 0. 0.1429 1. 0.\n",
      "element NMB21 3 3 7 2\n",
      "element NMB21 4 7 11 2\n",
      "section NM2D3 3 5.8000e+02 4.2920e+04 1.0000e+00 7.0000e+00 1.15 0.01 0. 0. 0.1429 1. 0.\n",
      "element NMB21 5 4 8 3\n",
      "element NMB21 6 8 12 3\n",
      "\n"
     ]
    }
   ],
   "source": [
    "from math import sqrt\n",
    "\n",
    "e = 29  # mpsi, Young's modulus\n",
    "fy = .05  # mpsi, yield stress\n",
    "hardening = .01  # isotropic hardening ratio\n",
    "nm_size = 1.15  # initial surface size\n",
    "\n",
    "section_pool: dict = {}\n",
    "element_pool: dict = {}\n",
    "\n",
    "\n",
    "@dataclass\n",
    "class Section:\n",
    "    tag: int\n",
    "    name: str\n",
    "    fp: float\n",
    "    mp: float\n",
    "    ea: float\n",
    "    ei: float\n",
    "    mult: float\n",
    "\n",
    "    def __init__(self, tag, name):\n",
    "        self.tag = tag\n",
    "        self.name = name\n",
    "        _a, _sx, _ix, _zx = from_table(name)\n",
    "        self.fp = fy * _a\n",
    "        self.mp = fy * _sx\n",
    "        self.ea = e * _a\n",
    "        self.ei = e * _ix\n",
    "        self.mult = fy * _zx\n",
    "\n",
    "    def write_to(self, f_handler, d, h):\n",
    "        f_handler.write(\n",
    "            f'section NM2D3 {self.tag} {self.ea:.4e} {self.ei:.4e} '  # basic section properties\n",
    "            f'{self.fp:.4e} {self.mp:.4e} {d} '  # yield forces\n",
    "            f'{h} 0. 0. {self.mult / self.mp - 1:.4f} 1. '  # hardening configurations\n",
    "            f'0.\\n')  # linear density\n",
    "\n",
    "\n",
    "@dataclass\n",
    "class Element:\n",
    "    tag: int\n",
    "    node_i: Node\n",
    "    node_j: Node\n",
    "    section: Section\n",
    "    element_length: float\n",
    "\n",
    "    def __init__(self, tag, _node_i, _node_j, _section):\n",
    "        self.tag = tag\n",
    "        self.node_i = _node_i\n",
    "        self.node_j = _node_j\n",
    "        self.section = _section\n",
    "        self.element_length = sqrt((_node_i.x - _node_j.x) ** 2 + (_node_i.y - _node_j.y) ** 2)\n",
    "\n",
    "    def write_to(self, f_handler):\n",
    "        f_handler.write(f'element NMB21 {self.tag} {self.node_i.tag} {self.node_j.tag} {self.section.tag}\\n')\n",
    "\n",
    "\n",
    "element_tag = 1\n",
    "section_tag = 1\n",
    "with open('beam.sp', 'w') as f:\n",
    "    for i in range(1, len(y_coor)):\n",
    "        section = Section(section_tag, girder[i - 1])\n",
    "        section.write_to(f, nm_size, hardening)\n",
    "        section_pool[section_tag] = section\n",
    "        for j in range(len(x_coor) - 1):\n",
    "            node_i = node_grid[i, j]\n",
    "            node_j = node_grid[i, j + 1]\n",
    "            element = Element(element_tag, node_pool[node_i], node_pool[node_j], section)\n",
    "            element.write_to(f)\n",
    "            element_pool[element_tag] = element\n",
    "            element_tag += 1\n",
    "        section_tag += 1\n",
    "\n",
    "with open('beam.sp', 'r') as f:\n",
    "    print(f.read())"
   ]
  },
  {
   "cell_type": "markdown",
   "metadata": {},
   "source": [
    "### Generate Column Elements\n",
    "\n",
    "Similarly, column elements can be generated by looping over each column."
   ]
  },
  {
   "cell_type": "code",
   "execution_count": 8,
   "metadata": {
    "collapsed": false
   },
   "outputs": [
    {
     "name": "stdout",
     "output_type": "stream",
     "text": [
      "section NM2D3 4 1.6472e+03 6.9600e+04 2.8400e+00 1.5500e+01 1.15 0.01 0. 0. 0.1452 1. 0.\n",
      "element NMB21 7 1 2 4\n",
      "element NMB21 8 5 6 4\n",
      "element NMB21 9 9 10 4\n",
      "section NM2D3 5 1.3543e+03 5.5100e+04 2.3350e+00 1.2700e+01 1.15 0.01 0. 0. 0.1299 1. 0.\n",
      "element NMB21 10 2 3 5\n",
      "element NMB21 11 6 7 5\n",
      "element NMB21 12 10 11 5\n",
      "section NM2D3 6 1.3543e+03 5.5100e+04 2.3350e+00 1.2700e+01 1.15 0.01 0. 0. 0.1299 1. 0.\n",
      "element NMB21 13 3 4 6\n",
      "element NMB21 14 7 8 6\n",
      "element NMB21 15 11 12 6\n",
      "\n"
     ]
    }
   ],
   "source": [
    "with open('column.sp', 'w') as f:\n",
    "    for i in range(len(y_coor) - 1):\n",
    "        section = Section(section_tag, column[i])\n",
    "        section.write_to(f, nm_size, hardening)\n",
    "        section_pool[section_tag] = section\n",
    "        for j in range(len(x_coor)):\n",
    "            node_i = node_grid[i, j]\n",
    "            node_j = node_grid[i + 1, j]\n",
    "            element = Element(element_tag, node_pool[node_i], node_pool[node_j], section)\n",
    "            element.write_to(f)\n",
    "            element_pool[element_tag] = element\n",
    "            element_tag += 1\n",
    "        section_tag += 1\n",
    "\n",
    "with open('column.sp', 'r') as f:\n",
    "    print(f.read())"
   ]
  },
  {
   "cell_type": "markdown",
   "metadata": {
    "collapsed": false
   },
   "source": [
    "### Fibre Based Elements\n",
    "\n",
    "The similar procedure can be used to generate fibre based elements with slight modifications. Here we use [`F21`](../../../Library/Element/Beam/F21.md) element. It relies on sections, and designations can be directly used to create sections. In this example, we use [`US2D`](../../../Library/Section/Code/US.md) category."
   ]
  },
  {
   "cell_type": "code",
   "execution_count": 9,
   "metadata": {
    "collapsed": false
   },
   "outputs": [
    {
     "name": "stdout",
     "output_type": "stream",
     "text": [
      "material Bilinear1D 1 29 0.05 0.01\n",
      "\n",
      "section US2D W21X68 1 1\n",
      "section US2D W21X68 2 1\n",
      "section US2D W21X68 3 1\n",
      "section US2D W14X193 4 1\n",
      "section US2D W14X159 5 1\n",
      "section US2D W14X159 6 1\n",
      "\n",
      "element F21 1 2 6 1\n",
      "element F21 2 6 10 1\n",
      "element F21 3 3 7 2\n",
      "element F21 4 7 11 2\n",
      "element F21 5 4 8 3\n",
      "element F21 6 8 12 3\n",
      "element F21 7 1 2 4\n",
      "element F21 8 5 6 4\n",
      "element F21 9 9 10 4\n",
      "element F21 10 2 3 5\n",
      "element F21 11 6 7 5\n",
      "element F21 12 10 11 5\n",
      "element F21 13 3 4 6\n",
      "element F21 14 7 8 6\n",
      "element F21 15 11 12 6\n",
      "\n"
     ]
    }
   ],
   "source": [
    "with open('fibre_frame.sp', 'w') as f:\n",
    "    f.write(f'material Bilinear1D 1 {e} {fy} {hardening}\\n\\n')\n",
    "    for v in section_pool.values():\n",
    "        f.write(f'section US2D {v.name} {v.tag} 1\\n')\n",
    "    f.write('\\n')\n",
    "    for v in element_pool.values():\n",
    "        f.write(f'element F21 {v.tag} {v.node_i.tag} {v.node_j.tag} {v.section.tag}\\n')\n",
    "\n",
    "with open('fibre_frame.sp', 'r') as f:\n",
    "    print(f.read())"
   ]
  },
  {
   "cell_type": "markdown",
   "metadata": {
    "collapsed": false
   },
   "source": [
    "### Generate Mass\n",
    "\n",
    "For simplicity, we only apply horizontal mass to each node, the procedure is similar to that of frame elements.\n",
    "\n",
    "To keep code modular, we define a mass grid to store mass at each node."
   ]
  },
  {
   "cell_type": "code",
   "execution_count": 10,
   "metadata": {
    "collapsed": false
   },
   "outputs": [
    {
     "name": "stdout",
     "output_type": "stream",
     "text": [
      "[[0.         0.         0.        ]\n",
      " [0.00020833 0.00041667 0.00020833]\n",
      " [0.00020833 0.00041667 0.00020833]\n",
      " [0.00020833 0.00041667 0.00020833]]\n"
     ]
    }
   ],
   "source": [
    "column_num = len(x_coor)\n",
    "if 1 == column:\n",
    "    portions = 1.\n",
    "else:\n",
    "    portions = 2. * (column_num - 1)\n",
    "\n",
    "# unit conversion\n",
    "portions *= 12 * 1000\n",
    "\n",
    "# calculate tributary mass by assuming uniform density\n",
    "# thus exterior nodes take half of the mass of interior nodes\n",
    "mass_grid = np.zeros((len(y_coor), column_num))\n",
    "for i in range(1, len(y_coor)):\n",
    "    for j in range(column_num):\n",
    "        mass_grid[i, j] = mass[i - 1] / portions\n",
    "    for j in range(1, column_num - 1):\n",
    "        mass_grid[i, j] *= 2.\n",
    "\n",
    "print(mass_grid)\n",
    "\n",
    "del column_num, portions"
   ]
  },
  {
   "cell_type": "markdown",
   "metadata": {
    "collapsed": false
   },
   "source": [
    "Now we assign mass to each node."
   ]
  },
  {
   "cell_type": "code",
   "execution_count": 11,
   "metadata": {
    "collapsed": false
   },
   "outputs": [
    {
     "name": "stdout",
     "output_type": "stream",
     "text": [
      "element Mass 16 2 2.0833e-04 1 2\n",
      "element Mass 17 6 4.1667e-04 1 2\n",
      "element Mass 18 10 2.0833e-04 1 2\n",
      "element Mass 19 3 2.0833e-04 1 2\n",
      "element Mass 20 7 4.1667e-04 1 2\n",
      "element Mass 21 11 2.0833e-04 1 2\n",
      "element Mass 22 4 2.0833e-04 1 2\n",
      "element Mass 23 8 4.1667e-04 1 2\n",
      "element Mass 24 12 2.0833e-04 1 2\n",
      "\n"
     ]
    }
   ],
   "source": [
    "with open('mass.sp', 'w') as f:\n",
    "    for node_tag, mass in zip(node_grid.flatten(), mass_grid.flatten()):\n",
    "        if mass == 0.:\n",
    "            continue\n",
    "        f.write(f'element Mass {element_tag} {node_tag} {mass :.4e} 1 2\\n')\n",
    "        element_tag += 1\n",
    "\n",
    "with open('mass.sp', 'r') as f:\n",
    "    print(f.read())"
   ]
  },
  {
   "cell_type": "markdown",
   "metadata": {
    "collapsed": false
   },
   "source": [
    "## Analysis Settings\n",
    "\n",
    "The basic geometry of the model is defined in `node.sp`, `beam.sp`, `column.sp` and `mass.sp`. We import those files in the main script."
   ]
  },
  {
   "cell_type": "code",
   "execution_count": 12,
   "metadata": {
    "collapsed": false
   },
   "outputs": [],
   "source": [
    "file_list = ['node.sp', 'beam.sp', 'column.sp', 'mass.sp']\n",
    "\n",
    "main_file = open('three-storey-frame.sp', 'w')\n",
    "\n",
    "for file in file_list:\n",
    "    main_file.write(f'file {file}\\n')"
   ]
  },
  {
   "cell_type": "markdown",
   "metadata": {
    "collapsed": false
   },
   "source": [
    "The boundary conditions can be assigned by simply fixing all bottom nodes."
   ]
  },
  {
   "cell_type": "code",
   "execution_count": 13,
   "metadata": {
    "collapsed": false
   },
   "outputs": [],
   "source": [
    "main_file.write(f'fix 1 P 1 {\" \".join(str(tag) for tag in node_grid[0, :])}\\n')\n",
    "\n",
    "pass"
   ]
  },
  {
   "cell_type": "markdown",
   "metadata": {
    "collapsed": false
   },
   "source": [
    "The ground motion shall be applied. The `ELNS` file contains one of the accelerograms of the 1940 El Centro Earthquake. It is normalised so that the maximum amplitude is unity, we assign a PGA of $$0.5g$$."
   ]
  },
  {
   "cell_type": "code",
   "execution_count": 14,
   "metadata": {
    "collapsed": false
   },
   "outputs": [],
   "source": [
    "pga = .5\n",
    "main_file.write(f'\\namplitude Tabular 1 ELNS\\n')\n",
    "# 1 g = 386.0885826772 in/s2\n",
    "main_file.write(f'\\nacceleration 1 1 {386.0885826772 * pga:.5e} 1\\n')\n",
    "\n",
    "pass"
   ]
  },
  {
   "cell_type": "markdown",
   "metadata": {
    "collapsed": false
   },
   "source": [
    "For results, we can, for example, record the nodal displacement history."
   ]
  },
  {
   "cell_type": "code",
   "execution_count": 15,
   "metadata": {
    "collapsed": false
   },
   "outputs": [],
   "source": [
    "recorder_tag = 1\n",
    "main_file.write(f'\\nhdf5recorder {recorder_tag} Node U ' + ' '.join([str(tag) for tag in node_pool.keys()]) + '\\n')\n",
    "\n",
    "pass"
   ]
  },
  {
   "cell_type": "markdown",
   "metadata": {},
   "source": [
    "For illustration, we can also record element yield flag at both ends so that the corresponding plastic hinge distribution can be generated. The yield flag is **not** generally available in other elements."
   ]
  },
  {
   "cell_type": "code",
   "execution_count": 16,
   "metadata": {},
   "outputs": [],
   "source": [
    "recorder_tag += 1\n",
    "main_file.write(\n",
    "    f'\\nhdf5recorder {recorder_tag} Element YF ' + ' '.join([str(tag) for tag in element_pool.keys()]) + '\\n')\n",
    "\n",
    "pass"
   ]
  },
  {
   "cell_type": "markdown",
   "metadata": {
    "collapsed": false
   },
   "source": [
    "We keep writing dynamic analysis step and the corresponding settings into the file."
   ]
  },
  {
   "cell_type": "code",
   "execution_count": 17,
   "metadata": {
    "collapsed": false
   },
   "outputs": [],
   "source": [
    "# dynamic step\n",
    "duration = 40.\n",
    "time_step = 1E-2\n",
    "main_file.write(f'\\nstep dynamic 1 {duration:.3e}\\n')\n",
    "main_file.write(f'set ini_step_size {time_step:.2e}\\n')\n",
    "main_file.write('set fixed_step_size true\\n')\n",
    "main_file.write('set sparse_mat true\\n')\n",
    "main_file.write('set system_solver SuperLU\\n\\n')\n",
    "\n",
    "main_file.write('converger AbsIncreDisp 1 1E-10 10 true\\n\\n')\n",
    "\n",
    "# damping model\n",
    "main_file.write('integrator LeeNewmarkFull 1 .25 .5 \\\\\\n'\n",
    "                '-type0 2.66040e-02 1.87264e-01 \\\\\\n'\n",
    "                '-type0 2.66170e-02 5.30209e+00 \\\\\\n'\n",
    "                '-type0 2.66310e-02 2.82431e+01 \\\\\\n'\n",
    "                '-type0 2.70320e-02 1.51584e+02 \\\\\\n'\n",
    "                '-type0 2.65990e-02 9.96227e-01 \\\\\\n'\n",
    "                '-type0 3.90780e-02 1.00100e-03 \\\\\\n'\n",
    "                '-type0 2.70050e-02 6.56300e-03 \\\\\\n'\n",
    "                '-type0 2.66190e-02 3.51830e-02 \\\\\\n'\n",
    "                '-type0 3.91040e-02 9.95802e+02\\n')\n",
    "\n",
    "main_file.write('\\nanalyze\\n')\n",
    "main_file.write(f'\\nsave recorder {\" \".join([str(tag + 1) for tag in range(recorder_tag)])}\\n')\n",
    "main_file.write('\\nexit\\n')\n",
    "\n",
    "pass"
   ]
  },
  {
   "cell_type": "markdown",
   "metadata": {
    "collapsed": false
   },
   "source": [
    "Do not forget to close the main file."
   ]
  },
  {
   "cell_type": "code",
   "execution_count": 18,
   "metadata": {
    "collapsed": false
   },
   "outputs": [
    {
     "name": "stdout",
     "output_type": "stream",
     "text": [
      "file node.sp\n",
      "file beam.sp\n",
      "file column.sp\n",
      "file mass.sp\n",
      "fix 1 P 1 1 5 9\n",
      "\n",
      "amplitude Tabular 1 ELNS\n",
      "\n",
      "acceleration 1 1 1.93044e+02 1\n",
      "\n",
      "hdf5recorder 1 Node U 1 2 3 4 5 6 7 8 9 10 11 12\n",
      "\n",
      "hdf5recorder 2 Element YF 1 2 3 4 5 6 7 8 9 10 11 12 13 14 15\n",
      "\n",
      "step dynamic 1 4.000e+01\n",
      "set ini_step_size 1.00e-02\n",
      "set fixed_step_size true\n",
      "set sparse_mat true\n",
      "set system_solver SuperLU\n",
      "\n",
      "converger AbsIncreDisp 1 1E-10 10 true\n",
      "\n",
      "integrator LeeNewmarkFull 1 .25 .5 \\\n",
      "-type0 2.66040e-02 1.87264e-01 \\\n",
      "-type0 2.66170e-02 5.30209e+00 \\\n",
      "-type0 2.66310e-02 2.82431e+01 \\\n",
      "-type0 2.70320e-02 1.51584e+02 \\\n",
      "-type0 2.65990e-02 9.96227e-01 \\\n",
      "-type0 3.90780e-02 1.00100e-03 \\\n",
      "-type0 2.70050e-02 6.56300e-03 \\\n",
      "-type0 2.66190e-02 3.51830e-02 \\\n",
      "-type0 3.91040e-02 9.95802e+02\n",
      "\n",
      "analyze\n",
      "\n",
      "save recorder 1 2\n",
      "\n",
      "exit\n",
      "\n"
     ]
    }
   ],
   "source": [
    "main_file.close()\n",
    "\n",
    "with open('three-storey-frame.sp', 'r') as f:\n",
    "    print(f.read())"
   ]
  },
  {
   "cell_type": "markdown",
   "metadata": {
    "collapsed": false
   },
   "source": [
    "Finally, let's pack everything into an archive so that it can be [downloaded](three-storey-frame.zip)."
   ]
  },
  {
   "cell_type": "code",
   "execution_count": 19,
   "metadata": {
    "collapsed": false
   },
   "outputs": [],
   "source": [
    "import os\n",
    "from zipfile import ZipFile\n",
    "\n",
    "file_list.append('fibre_frame.sp')\n",
    "file_list.append('three-storey-frame.sp')\n",
    "file_list.append('ELNS')\n",
    "\n",
    "with ZipFile('three-storey-frame.zip', 'w') as f:\n",
    "    for file in file_list:\n",
    "        f.write(file)"
   ]
  },
  {
   "cell_type": "markdown",
   "metadata": {
    "collapsed": false
   },
   "source": [
    "## Run Analysis\n",
    "\n",
    "The analysis can be run by calling the executable.\n",
    "\n",
    "The online documentation is not calling the executable, but it is possible to run the analysis locally with the application available."
   ]
  },
  {
   "cell_type": "code",
   "execution_count": 20,
   "metadata": {
    "collapsed": false
   },
   "outputs": [],
   "source": [
    "from shutil import which\n",
    "\n",
    "\n",
    "def run_analysis():\n",
    "    if os.name == 'nt':\n",
    "        exe_name = 'suanPan.exe'\n",
    "    else:\n",
    "        exe_name = 'suanpan'\n",
    "\n",
    "    if which(exe_name):\n",
    "        os.system(f'{exe_name} -np -f three-storey-frame.sp')\n",
    "\n",
    "\n",
    "run_analysis()"
   ]
  },
  {
   "cell_type": "markdown",
   "metadata": {
    "collapsed": false
   },
   "source": [
    "## Roof Displacement History\n",
    "\n",
    "The result file will be generated and stored in `.h5` file. We can read the file and plot the results."
   ]
  },
  {
   "cell_type": "code",
   "execution_count": 21,
   "metadata": {
    "collapsed": false
   },
   "outputs": [
    {
     "data": {
      "image/png": "[encoded data removed]",
      "text/plain": [
       "<Figure size 1000x700 with 1 Axes>"
      ]
     },
     "metadata": {},
     "output_type": "display_data"
    }
   ],
   "source": [
    "import h5py\n",
    "import matplotlib.pyplot as plt\n",
    "import glob\n",
    "\n",
    "\n",
    "def plot_result():\n",
    "    h5_file = glob.glob('*U.h5')\n",
    "    if len(h5_file) == 0:\n",
    "        return\n",
    "\n",
    "    plt.figure(figsize=(10, 7))\n",
    "    with h5py.File(h5_file[0], 'r') as result_file:\n",
    "        for group in result_file.values():\n",
    "            for key, data in group.items():\n",
    "                plt.plot(data[:, 0], data[:, 1] / max(y_coor) * 100., label=key)\n",
    "    plt.xlabel('Time (s)')\n",
    "    plt.ylabel('Drift (%)')\n",
    "    plt.legend()\n",
    "    plt.show()\n",
    "\n",
    "\n",
    "plot_result()"
   ]
  },
  {
   "cell_type": "markdown",
   "metadata": {
    "collapsed": false
   },
   "source": [
    "Clean up the files to end this example."
   ]
  },
  {
   "cell_type": "code",
   "execution_count": 22,
   "metadata": {
    "collapsed": false
   },
   "outputs": [],
   "source": [
    "for file in file_list:\n",
    "    if file == 'ELNS':\n",
    "        continue\n",
    "    if os.path.exists(file):\n",
    "        os.remove(file)"
   ]
  },
  {
   "cell_type": "markdown",
   "metadata": {},
   "source": [
    "Let's create some TikZ commands to be used to plot plastic hinge distribution."
   ]
  },
  {
   "cell_type": "code",
   "execution_count": 23,
   "metadata": {},
   "outputs": [
    {
     "name": "stdout",
     "output_type": "stream",
     "text": [
      "\\begin{tikzpicture}[scale=2]\n",
      "\\coordinate(N1)at(0.0,0.0);\n",
      "\\coordinate(N2)at(0.0,1.2);\n",
      "\\coordinate(N3)at(0.0,2.4);\n",
      "\\coordinate(N4)at(0.0,3.6);\n",
      "\\coordinate(N5)at(2.4,0.0);\n",
      "\\coordinate(N6)at(2.4,1.2);\n",
      "\\coordinate(N7)at(2.4,2.4);\n",
      "\\coordinate(N8)at(2.4,3.6);\n",
      "\\coordinate(N9)at(4.8,0.0);\n",
      "\\coordinate(N10)at(4.8,1.2);\n",
      "\\coordinate(N11)at(4.8,2.4);\n",
      "\\coordinate(N12)at(4.8,3.6);\n",
      "\\draw[line width=1mm](N2)--(N6)node[midway,fill=white,font=\\tiny]{W21X68};\n",
      "\\draw[line width=1mm](N6)--(N10)node[midway,fill=white,font=\\tiny]{W21X68};\n",
      "\\draw[line width=1mm](N3)--(N7)node[midway,fill=white,font=\\tiny]{W21X68};\n",
      "\\draw[line width=1mm](N7)--(N11)node[midway,fill=white,font=\\tiny]{W21X68};\n",
      "\\draw[line width=1mm](N4)--(N8)node[midway,fill=white,font=\\tiny]{W21X68};\n",
      "\\draw[line width=1mm](N8)--(N12)node[midway,fill=white,font=\\tiny]{W21X68};\n",
      "\\draw[line width=1mm](N1)--(N2)node[midway,fill=white,font=\\tiny,rotate=90]{W14X193};\n",
      "\\draw[line width=1mm](N5)--(N6)node[midway,fill=white,font=\\tiny,rotate=90]{W14X193};\n",
      "\\draw[line width=1mm](N9)--(N10)node[midway,fill=white,font=\\tiny,rotate=90]{W14X193};\n",
      "\\draw[line width=1mm](N2)--(N3)node[midway,fill=white,font=\\tiny,rotate=90]{W14X159};\n",
      "\\draw[line width=1mm](N6)--(N7)node[midway,fill=white,font=\\tiny,rotate=90]{W14X159};\n",
      "\\draw[line width=1mm](N10)--(N11)node[midway,fill=white,font=\\tiny,rotate=90]{W14X159};\n",
      "\\draw[line width=1mm](N3)--(N4)node[midway,fill=white,font=\\tiny,rotate=90]{W14X159};\n",
      "\\draw[line width=1mm](N7)--(N8)node[midway,fill=white,font=\\tiny,rotate=90]{W14X159};\n",
      "\\draw[line width=1mm](N11)--(N12)node[midway,fill=white,font=\\tiny,rotate=90]{W14X159};\n",
      "\\node[fill=red,circle,draw,inner sep=0,minimum size=3mm]at($(N2)!.1!(N6)$){};\n",
      "\\node[fill=red,circle,draw,inner sep=0,minimum size=3mm]at($(N2)!.9!(N6)$){};\n",
      "\\node[fill=red,circle,draw,inner sep=0,minimum size=3mm]at($(N7)!.9!(N8)$){};\n",
      "\\node[fill=red,circle,draw,inner sep=0,minimum size=3mm]at($(N6)!.1!(N10)$){};\n",
      "\\node[fill=red,circle,draw,inner sep=0,minimum size=3mm]at($(N6)!.9!(N10)$){};\n",
      "\\node[fill=red,circle,draw,inner sep=0,minimum size=3mm]at($(N3)!.1!(N7)$){};\n",
      "\\node[fill=red,circle,draw,inner sep=0,minimum size=3mm]at($(N3)!.9!(N7)$){};\n",
      "\\node[fill=red,circle,draw,inner sep=0,minimum size=3mm]at($(N7)!.1!(N11)$){};\n",
      "\\node[fill=red,circle,draw,inner sep=0,minimum size=3mm]at($(N7)!.9!(N11)$){};\n",
      "\\node[fill=red,circle,draw,inner sep=0,minimum size=3mm]at($(N4)!.1!(N8)$){};\n",
      "\\node[fill=red,circle,draw,inner sep=0,minimum size=3mm]at($(N8)!.9!(N12)$){};\n",
      "\\node[fill=red,circle,draw,inner sep=0,minimum size=3mm]at($(N1)!.1!(N2)$){};\n",
      "\\node[fill=red,circle,draw,inner sep=0,minimum size=3mm]at($(N5)!.1!(N6)$){};\n",
      "\\node[fill=red,circle,draw,inner sep=0,minimum size=3mm]at($(N9)!.1!(N10)$){};\n",
      "\\end{tikzpicture}\n",
      "\n"
     ]
    }
   ],
   "source": [
    "tikz: list = []\n",
    "\n",
    "# generate coordinates to represent nodal positions\n",
    "for node in node_pool.values():\n",
    "    tikz.append(f'\\\\coordinate(N{node.tag})at({node.x / 1E2},{node.y / 1E2});')\n",
    "\n",
    "# draw frame elements\n",
    "for element in element_pool.values():\n",
    "    node_i = element.node_i\n",
    "    node_j = element.node_j\n",
    "    if node_i.x == node_j.x:\n",
    "        # vertical columns\n",
    "        tikz.append(\n",
    "            f'\\\\draw[line width=1mm](N{element.node_i.tag})--(N{element.node_j.tag})node[midway,fill=white,font=\\\\tiny,rotate=90]{{{element.section.name}}};')\n",
    "    else:\n",
    "        # horizontal beams\n",
    "        tikz.append(\n",
    "            f'\\\\draw[line width=1mm](N{element.node_i.tag})--(N{element.node_j.tag})node[midway,fill=white,font=\\\\tiny]{{{element.section.name}}};')\n",
    "\n",
    "hinge_label = '[fill=red,circle,draw,inner sep=0,minimum size=3mm]'\n",
    "\n",
    "h5_file = glob.glob('*YF.h5')\n",
    "if len(h5_file) > 0:\n",
    "    with h5py.File(h5_file[0], 'r') as h_file:\n",
    "        h5_prefix = h5_file[0].split('.')[0]\n",
    "        for g in h_file.values():\n",
    "            for k, v in g.items():\n",
    "                element_tag = int(k.replace(h5_prefix, ''))\n",
    "                node_i = element_pool[element_tag].node_i.tag\n",
    "                node_j = element_pool[element_tag].node_j.tag\n",
    "\n",
    "                if v[:, 1].max() > .5:\n",
    "                    tikz.append(f'\\\\node{hinge_label}at($(N{node_i})!.1!(N{node_j})$){{}};')\n",
    "                if v[:, 2].max() > .5:\n",
    "                    tikz.append(f'\\\\node{hinge_label}at($(N{node_i})!.9!(N{node_j})$){{}};')\n",
    "\n",
    "with open(f'DIST.tex', 'w') as f:\n",
    "    f.write('\\\\begin{tikzpicture}[scale=2]\\n')\n",
    "    f.write('\\n'.join(tikz))\n",
    "    f.write('\\n\\\\end{tikzpicture}\\n')\n",
    "\n",
    "with open(f'DIST.tex', 'r') as f:\n",
    "    print(f.read())"
   ]
  }
 ],
 "metadata": {
  "kernelspec": {
   "display_name": "Python 3 (ipykernel)",
   "language": "python",
   "name": "python3"
  },
  "language_info": {
   "codemirror_mode": {
    "name": "ipython",
    "version": 3
   },
   "file_extension": ".py",
   "mimetype": "text/x-python",
   "name": "python",
   "nbconvert_exporter": "python",
   "pygments_lexer": "ipython3",
   "version": "3.10.4"
  },
  "vscode": {
   "interpreter": {
    "hash": "f22081394c872b3ced99252b95ad4806052465fa5cd514a6921668f90323c92d"
   }
  }
 },
 "nbformat": 4,
 "nbformat_minor": 1
}
