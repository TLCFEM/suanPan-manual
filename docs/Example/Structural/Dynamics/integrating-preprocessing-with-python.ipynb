{
 "cells": [
  {
   "cell_type": "markdown",
   "metadata": {
    "pycharm": {
     "name": "#%% md\n"
    }
   },
   "source": [
    "# [★★★★★] Integrating Preprocessing with Python\n",
    "\n",
    "Minimum version: v2.5\n",
    "\n",
    "In this example, we demonstrate how to use python to preprocess data by creating a frame structure. This example requires some Python familiarity. However, as we are developing a frame structure which contains mainly frame elements, the procedure is relatively straightforward.\n",
    "\n",
    "## Prerequisites\n",
    "\n",
    "We are going to find section properties from AISC table, which is available online."
   ]
  },
  {
   "cell_type": "code",
   "execution_count": null,
   "metadata": {
    "pycharm": {
     "name": "#%%\n"
    }
   },
   "outputs": [],
   "source": [
    "import pandas\n",
    "\n",
    "section_table = pandas.read_excel(\n",
    "    'https://www.aisc.org/globalassets/aisc/manual/v15.0-shapes-database/aisc-shapes-database-v15.0.xlsx',\n",
    "    sheet_name=1,\n",
    "    usecols='A:CF')\n",
    "print(section_table.head())"
   ]
  },
  {
   "cell_type": "markdown",
   "metadata": {
    "pycharm": {
     "name": "#%% md\n"
    }
   },
   "source": [
    "Section properties such as area and moment of inertia can be extracted from this table using section designations. It is possible to define such a function now."
   ]
  },
  {
   "cell_type": "code",
   "execution_count": null,
   "metadata": {
    "pycharm": {
     "name": "#%%\n"
    }
   },
   "outputs": [],
   "source": [
    "def from_table(designation: str):\n",
    "    index = section_table.index[section_table['AISC_Manual_Label'] == designation].tolist()\n",
    "    assert len(index) == 1\n",
    "    a = section_table.at[index[0], 'A']  # area\n",
    "    sx = section_table.at[index[0], 'Sx']  # elastic modulus\n",
    "    ix = section_table.at[index[0], 'Ix']  # moment of inertia\n",
    "    zx = section_table.at[index[0], 'Zx']  # plastic modulus\n",
    "    return a, sx, ix, zx"
   ]
  },
  {
   "cell_type": "markdown",
   "metadata": {
    "pycharm": {
     "name": "#%% md\n"
    }
   },
   "source": [
    "Then we can use this function to extract section properties from the table. For example,"
   ]
  },
  {
   "cell_type": "code",
   "execution_count": null,
   "metadata": {
    "pycharm": {
     "name": "#%%\n"
    }
   },
   "outputs": [],
   "source": [
    "print(from_table('W44X230'))"
   ]
  },
  {
   "cell_type": "markdown",
   "metadata": {
    "pycharm": {
     "name": "#%% md\n"
    }
   },
   "source": [
    "## Geometry of the Frame Structure\n",
    "\n",
    "For simplicity, we assume the frame structure has the same column/beam section for all the columns/beams on the same floor. Under such a condition, two lists of section designations can be provided so that elements can be created. Similarly, geometry information such as floor height, bay span, as well as floor mass, can be provided in the same way.\n",
    "\n",
    "For example, we can define several lists as follows."
   ]
  },
  {
   "cell_type": "code",
   "execution_count": null,
   "metadata": {
    "pycharm": {
     "name": "#%%\n"
    }
   },
   "outputs": [],
   "source": [
    "girder = ['W21X68', 'W21X68', 'W21X68']  # floor 1 2 3\n",
    "column = ['W14X193', 'W14X159', 'W14X159']  # column 1 2 3\n",
    "mass = [10., 10., 10.]  # floor 1 2 3\n",
    "span = [240., 240.]  # bay span 1 2\n",
    "height = [120., 120., 120.]  # floor height 1 2 3"
   ]
  },
  {
   "cell_type": "markdown",
   "metadata": {
    "pycharm": {
     "name": "#%% md\n"
    }
   },
   "source": [
    "### Generate Node Grid\n",
    "\n",
    "Given that span and height are given, it is possible to calculate the absolute position of the nodes."
   ]
  },
  {
   "cell_type": "code",
   "execution_count": null,
   "metadata": {
    "pycharm": {
     "name": "#%%\n"
    }
   },
   "outputs": [],
   "source": [
    "import numpy as np\n",
    "\n",
    "x_coor = np.cumsum(span)\n",
    "y_coor = np.cumsum(height)\n",
    "x_coor = np.insert(x_coor, 0, 0.)\n",
    "y_coor = np.insert(y_coor, 0, 0.)\n",
    "print(x_coor, y_coor)\n",
    "\n",
    "del span, height"
   ]
  },
  {
   "cell_type": "markdown",
   "metadata": {
    "pycharm": {
     "name": "#%% md\n"
    }
   },
   "source": [
    "By using the above coordinates, we can create a grid of nodes. A simple `Node` class is defined to represent nodes."
   ]
  },
  {
   "cell_type": "code",
   "execution_count": null,
   "metadata": {
    "pycharm": {
     "name": "#%%\n"
    }
   },
   "outputs": [],
   "source": [
    "from dataclasses import dataclass\n",
    "\n",
    "\n",
    "@dataclass\n",
    "class Node:\n",
    "    tag: int\n",
    "    x: float\n",
    "    y: float\n",
    "\n",
    "    def write_to(self, f_handler):\n",
    "        f_handler.write(f'node {self.tag} {self.x:.2f} {self.y:.2f}\\n')\n",
    "\n",
    "\n",
    "node_pool: dict = {}\n",
    "\n",
    "node_grid = np.zeros((len(y_coor), len(x_coor))).astype(int)\n",
    "\n",
    "node_tag = 1\n",
    "with open('node.sp', 'w') as f:\n",
    "    for i in range(len(x_coor)):\n",
    "        for j in range(len(y_coor)):\n",
    "            node = Node(node_tag, x_coor[i], y_coor[j])\n",
    "            node.write_to(f)\n",
    "            node_pool[node_tag] = node\n",
    "            node_grid[j, i] = node_tag\n",
    "            node_tag += 1\n",
    "del node_tag\n",
    "\n",
    "with open('node.sp', 'r') as f:\n",
    "    print(f.read())"
   ]
  },
  {
   "cell_type": "markdown",
   "metadata": {
    "pycharm": {
     "name": "#%% md\n"
    }
   },
   "source": [
    "The `node_grid` can be used to generate elements.\n",
    "\n",
    "### Generate Beam Elements\n",
    "\n",
    "Starting with the second row, beam elements can be generated by looping over each row."
   ]
  },
  {
   "cell_type": "code",
   "execution_count": null,
   "metadata": {
    "pycharm": {
     "name": "#%%\n"
    }
   },
   "outputs": [],
   "source": [
    "from math import sqrt\n",
    "\n",
    "e = 29  # mpsi, Young's modulus\n",
    "fy = .05  # mpsi, yield stress\n",
    "hardening = .01  # isotropic hardening ratio\n",
    "nm_size = 1.15  # initial surface size\n",
    "\n",
    "section_pool: dict = {}\n",
    "element_pool: dict = {}\n",
    "\n",
    "\n",
    "@dataclass\n",
    "class Section:\n",
    "    tag: int\n",
    "    name: str\n",
    "    fp: float\n",
    "    mp: float\n",
    "    ea: float\n",
    "    ei: float\n",
    "    mult: float\n",
    "\n",
    "    def __init__(self, tag, name):\n",
    "        self.tag = tag\n",
    "        self.name = name\n",
    "        _a, _sx, _ix, _zx = from_table(name)\n",
    "        self.fp = fy * _a\n",
    "        self.mp = fy * _sx\n",
    "        self.ea = e * _a\n",
    "        self.ei = e * _ix\n",
    "        self.mult = fy * _zx\n",
    "\n",
    "    def write_to(self, f_handler, d, h):\n",
    "        f_handler.write(\n",
    "            f'section NM2D3 {self.tag} {self.ea:.4e} {self.ei:.4e} '  # basic section properties\n",
    "            f'{self.fp:.4e} {self.mp:.4e} {d} '  # yield forces\n",
    "            f'{h} 0. 0. {self.mult / self.mp - 1:.4f} 1. '  # hardening configurations\n",
    "            f'0.\\n')  # linear density\n",
    "\n",
    "\n",
    "@dataclass\n",
    "class Element:\n",
    "    tag: int\n",
    "    node_i: Node\n",
    "    node_j: Node\n",
    "    section: Section\n",
    "    element_length: float\n",
    "\n",
    "    def __init__(self, tag, _node_i, _node_j, _section):\n",
    "        self.tag = tag\n",
    "        self.node_i = _node_i\n",
    "        self.node_j = _node_j\n",
    "        self.section = _section\n",
    "        self.element_length = sqrt((_node_i.x - _node_j.x) ** 2 + (_node_i.y - _node_j.y) ** 2)\n",
    "\n",
    "    def write_to(self, f_handler):\n",
    "        f_handler.write(f'element NMB21 {self.tag} {self.node_i.tag} {self.node_j.tag} {self.section.tag}\\n')\n",
    "\n",
    "\n",
    "element_tag = 1\n",
    "section_tag = 1\n",
    "with open('beam.sp', 'w') as f:\n",
    "    for i in range(1, len(y_coor)):\n",
    "        section = Section(section_tag, girder[i - 1])\n",
    "        section.write_to(f, nm_size, hardening)\n",
    "        section_pool[section_tag] = section\n",
    "        for j in range(len(x_coor) - 1):\n",
    "            node_i = node_grid[i, j]\n",
    "            node_j = node_grid[i, j + 1]\n",
    "            element = Element(element_tag, node_pool[node_i], node_pool[node_j], section)\n",
    "            element.write_to(f)\n",
    "            element_pool[element_tag] = element\n",
    "            element_tag += 1\n",
    "        section_tag += 1\n",
    "\n",
    "with open('beam.sp', 'r') as f:\n",
    "    print(f.read())"
   ]
  },
  {
   "cell_type": "markdown",
   "metadata": {
    "pycharm": {
     "name": "#%% md\n"
    }
   },
   "source": [
    "### Generate Column Elements\n",
    "\n",
    "Similarly, column elements can be generated by looping over each column."
   ]
  },
  {
   "cell_type": "code",
   "execution_count": null,
   "metadata": {
    "collapsed": false,
    "pycharm": {
     "name": "#%%\n"
    }
   },
   "outputs": [],
   "source": [
    "with open('column.sp', 'w') as f:\n",
    "    for i in range(len(y_coor) - 1):\n",
    "        section = Section(section_tag, column[i])\n",
    "        section.write_to(f, nm_size, hardening)\n",
    "        section_pool[section_tag] = section\n",
    "        for j in range(len(x_coor)):\n",
    "            node_i = node_grid[i, j]\n",
    "            node_j = node_grid[i + 1, j]\n",
    "            element = Element(element_tag, node_pool[node_i], node_pool[node_j], section)\n",
    "            element.write_to(f)\n",
    "            element_pool[element_tag] = element\n",
    "            element_tag += 1\n",
    "        section_tag += 1\n",
    "\n",
    "with open('column.sp', 'r') as f:\n",
    "    print(f.read())"
   ]
  },
  {
   "cell_type": "markdown",
   "metadata": {
    "collapsed": false,
    "pycharm": {
     "name": "#%% md\n"
    }
   },
   "source": [
    "### Fibre Based Elements\n",
    "\n",
    "The similar procedure can be used to generate fibre based elements with slight modifications. Here we use [`F21`](../../../Library/Element/Beam/F21.md) element. It relies on sections, and designations can be directly used to create sections. In this example, we use [`US2D`](../../../Library/Section/Code/US.md) category."
   ]
  },
  {
   "cell_type": "code",
   "execution_count": null,
   "metadata": {
    "collapsed": false,
    "pycharm": {
     "name": "#%%\n"
    }
   },
   "outputs": [],
   "source": [
    "with open('fibre_frame.sp', 'w') as f:\n",
    "    f.write(f'material Bilinear1D 1 {e} {fy} {hardening}\\n\\n')\n",
    "    for v in section_pool.values():\n",
    "        f.write(f'section US2D {v.name} {v.tag} 1\\n')\n",
    "    f.write('\\n')\n",
    "    for v in element_pool.values():\n",
    "        f.write(f'element F21 {v.tag} {v.node_i.tag} {v.node_j.tag} {v.section.tag}\\n')\n",
    "\n",
    "with open('fibre_frame.sp', 'r') as f:\n",
    "    print(f.read())"
   ]
  },
  {
   "cell_type": "markdown",
   "metadata": {
    "collapsed": false,
    "pycharm": {
     "name": "#%% md\n"
    }
   },
   "source": [
    "### Generate Mass\n",
    "\n",
    "For simplicity, we only apply horizontal mass to each node, the procedure is similar to that of frame elements.\n",
    "\n",
    "To keep code modular, we define a mass grid to store mass at each node."
   ]
  },
  {
   "cell_type": "code",
   "execution_count": null,
   "metadata": {
    "collapsed": false,
    "pycharm": {
     "name": "#%%\n"
    }
   },
   "outputs": [],
   "source": [
    "column_num = len(x_coor)\n",
    "if 1 == column:\n",
    "    portions = 1.\n",
    "else:\n",
    "    portions = 2. * (column_num - 1)\n",
    "\n",
    "# unit conversion\n",
    "portions *= 12 * 1000\n",
    "\n",
    "# calculate tributary mass by assuming uniform density\n",
    "# thus exterior nodes take half of the mass of interior nodes\n",
    "mass_grid = np.zeros((len(y_coor), column_num))\n",
    "for i in range(1, len(y_coor)):\n",
    "    for j in range(column_num):\n",
    "        mass_grid[i, j] = mass[i - 1] / portions\n",
    "    for j in range(1, column_num - 1):\n",
    "        mass_grid[i, j] *= 2.\n",
    "\n",
    "print(mass_grid)\n",
    "\n",
    "del column_num, portions"
   ]
  },
  {
   "cell_type": "markdown",
   "metadata": {
    "collapsed": false,
    "pycharm": {
     "name": "#%% md\n"
    }
   },
   "source": [
    "Now we assign mass to each node."
   ]
  },
  {
   "cell_type": "code",
   "execution_count": null,
   "metadata": {
    "collapsed": false,
    "pycharm": {
     "name": "#%%\n"
    }
   },
   "outputs": [],
   "source": [
    "with open('mass.sp', 'w') as f:\n",
    "    for node_tag, mass in zip(node_grid.flatten(), mass_grid.flatten()):\n",
    "        if mass == 0.:\n",
    "            continue\n",
    "        f.write(f'element Mass {element_tag} {node_tag} {mass :.4e} 1 2\\n')\n",
    "        element_tag += 1\n",
    "\n",
    "with open('mass.sp', 'r') as f:\n",
    "    print(f.read())"
   ]
  },
  {
   "cell_type": "markdown",
   "metadata": {
    "collapsed": false,
    "pycharm": {
     "name": "#%% md\n"
    }
   },
   "source": [
    "## Analysis Settings\n",
    "\n",
    "The basic geometry of the model is defined in `node.sp`, `beam.sp`, `column.sp` and `mass.sp`. We import those files in the main script."
   ]
  },
  {
   "cell_type": "code",
   "execution_count": null,
   "metadata": {
    "collapsed": false,
    "pycharm": {
     "name": "#%%\n"
    }
   },
   "outputs": [],
   "source": [
    "file_list = ['node.sp', 'beam.sp', 'column.sp', 'mass.sp']\n",
    "\n",
    "main_file = open('three-storey-frame.sp', 'w')\n",
    "\n",
    "for file in file_list:\n",
    "    main_file.write(f'file {file}\\n')"
   ]
  },
  {
   "cell_type": "markdown",
   "metadata": {
    "collapsed": false,
    "pycharm": {
     "name": "#%% md\n"
    }
   },
   "source": [
    "The boundary conditions can be assigned by simply fixing all bottom nodes."
   ]
  },
  {
   "cell_type": "code",
   "execution_count": null,
   "metadata": {
    "collapsed": false,
    "pycharm": {
     "name": "#%%\n"
    }
   },
   "outputs": [],
   "source": [
    "main_file.write(f'fix 1 P 1 {\" \".join(str(tag) for tag in node_grid[0, :])}\\n')\n",
    "\n",
    "pass"
   ]
  },
  {
   "cell_type": "markdown",
   "metadata": {
    "collapsed": false,
    "pycharm": {
     "name": "#%% md\n"
    }
   },
   "source": [
    "The ground motion shall be applied. The `ELNS` file contains one of the accelerograms of the 1940 El Centro Earthquake. It is normalised so that the maximum amplitude is unity, we assign a PGA of $$0.5g$$."
   ]
  },
  {
   "cell_type": "code",
   "execution_count": null,
   "metadata": {
    "collapsed": false,
    "pycharm": {
     "name": "#%%\n"
    }
   },
   "outputs": [],
   "source": [
    "pga = .5\n",
    "main_file.write(f'\\namplitude Tabular 1 ELNS\\n')\n",
    "# 1 g = 386.0885826772 in/s2\n",
    "main_file.write(f'\\nacceleration 1 1 {386.0885826772 * pga:.5e} 1\\n')\n",
    "\n",
    "pass"
   ]
  },
  {
   "cell_type": "markdown",
   "metadata": {
    "collapsed": false,
    "pycharm": {
     "name": "#%% md\n"
    }
   },
   "source": [
    "For results, we can, for example, record the nodal displacement history."
   ]
  },
  {
   "cell_type": "code",
   "execution_count": null,
   "metadata": {
    "collapsed": false,
    "pycharm": {
     "name": "#%%\n"
    }
   },
   "outputs": [],
   "source": [
    "recorder_tag = 1\n",
    "main_file.write(f'\\nhdf5recorder {recorder_tag} Node U ' + ' '.join([str(tag) for tag in node_pool.keys()]) + '\\n')\n",
    "\n",
    "pass"
   ]
  },
  {
   "cell_type": "markdown",
   "metadata": {
    "pycharm": {
     "name": "#%% md\n"
    }
   },
   "source": [
    "For illustration, we can also record element yield flag at both ends so that the corresponding plastic hinge distribution can be generated. The yield flag is **not** generally available in other elements."
   ]
  },
  {
   "cell_type": "code",
   "execution_count": null,
   "metadata": {
    "pycharm": {
     "name": "#%%\n"
    }
   },
   "outputs": [],
   "source": [
    "recorder_tag += 1\n",
    "main_file.write(\n",
    "    f'\\nhdf5recorder {recorder_tag} Element YF ' + ' '.join([str(tag) for tag in element_pool.keys()]) + '\\n')\n",
    "\n",
    "pass"
   ]
  },
  {
   "cell_type": "markdown",
   "metadata": {
    "collapsed": false,
    "pycharm": {
     "name": "#%% md\n"
    }
   },
   "source": [
    "We keep writing dynamic analysis step and the corresponding settings into the file."
   ]
  },
  {
   "cell_type": "code",
   "execution_count": null,
   "metadata": {
    "collapsed": false,
    "pycharm": {
     "name": "#%%\n"
    }
   },
   "outputs": [],
   "source": [
    "# dynamic step\n",
    "duration = 40.\n",
    "time_step = 1E-2\n",
    "main_file.write(f'\\nstep dynamic 1 {duration:.3e}\\n')\n",
    "main_file.write(f'set ini_step_size {time_step:.2e}\\n')\n",
    "main_file.write('set fixed_step_size true\\n')\n",
    "main_file.write('set sparse_mat true\\n')\n",
    "main_file.write('set system_solver SuperLU\\n\\n')\n",
    "\n",
    "main_file.write('converger AbsIncreDisp 1 1E-10 10 true\\n\\n')\n",
    "\n",
    "# damping model\n",
    "main_file.write('integrator LeeNewmarkFull 1 .25 .5 \\\\\\n'\n",
    "                '-type0 2.66040e-02 1.87264e-01 \\\\\\n'\n",
    "                '-type0 2.66170e-02 5.30209e+00 \\\\\\n'\n",
    "                '-type0 2.66310e-02 2.82431e+01 \\\\\\n'\n",
    "                '-type0 2.70320e-02 1.51584e+02 \\\\\\n'\n",
    "                '-type0 2.65990e-02 9.96227e-01 \\\\\\n'\n",
    "                '-type0 3.90780e-02 1.00100e-03 \\\\\\n'\n",
    "                '-type0 2.70050e-02 6.56300e-03 \\\\\\n'\n",
    "                '-type0 2.66190e-02 3.51830e-02 \\\\\\n'\n",
    "                '-type0 3.91040e-02 9.95802e+02\\n')\n",
    "\n",
    "main_file.write('\\nanalyze\\n')\n",
    "main_file.write(f'\\nsave recorder {\" \".join([str(tag + 1) for tag in range(recorder_tag)])}\\n')\n",
    "main_file.write('\\nexit\\n')\n",
    "\n",
    "pass"
   ]
  },
  {
   "cell_type": "markdown",
   "metadata": {
    "collapsed": false,
    "pycharm": {
     "name": "#%% md\n"
    }
   },
   "source": [
    "Do not forget to close the main file."
   ]
  },
  {
   "cell_type": "code",
   "execution_count": null,
   "metadata": {
    "collapsed": false,
    "pycharm": {
     "name": "#%%\n"
    }
   },
   "outputs": [],
   "source": [
    "main_file.close()\n",
    "\n",
    "with open('three-storey-frame.sp', 'r') as f:\n",
    "    print(f.read())"
   ]
  },
  {
   "cell_type": "markdown",
   "metadata": {
    "collapsed": false,
    "pycharm": {
     "name": "#%% md\n"
    }
   },
   "source": [
    "Finally, let's pack everything into an archive so that it can be [downloaded](../three-storey-frame.zip)."
   ]
  },
  {
   "cell_type": "code",
   "execution_count": null,
   "metadata": {
    "collapsed": false,
    "pycharm": {
     "name": "#%%\n"
    }
   },
   "outputs": [],
   "source": [
    "import os\n",
    "from zipfile import ZipFile\n",
    "\n",
    "file_list.append('fibre_frame.sp')\n",
    "file_list.append('three-storey-frame.sp')\n",
    "file_list.append('ELNS')\n",
    "\n",
    "with ZipFile('three-storey-frame.zip', 'w') as f:\n",
    "    for file in file_list:\n",
    "        f.write(file)"
   ]
  },
  {
   "cell_type": "markdown",
   "metadata": {
    "collapsed": false,
    "pycharm": {
     "name": "#%% md\n"
    }
   },
   "source": [
    "## Run Analysis\n",
    "\n",
    "The analysis can be run by calling the executable.\n",
    "\n",
    "The online documentation is not calling the executable, but it is possible to run the analysis locally with the application available."
   ]
  },
  {
   "cell_type": "code",
   "execution_count": null,
   "metadata": {
    "collapsed": false,
    "pycharm": {
     "name": "#%%\n"
    }
   },
   "outputs": [],
   "source": [
    "from shutil import which\n",
    "\n",
    "\n",
    "def run_analysis():\n",
    "    if os.name == 'nt':\n",
    "        exe_name = 'suanPan.exe'\n",
    "    else:\n",
    "        exe_name = 'suanpan'\n",
    "\n",
    "    if which(exe_name):\n",
    "        os.system(f'{exe_name} -np -f three-storey-frame.sp')\n",
    "\n",
    "\n",
    "run_analysis()"
   ]
  },
  {
   "cell_type": "markdown",
   "metadata": {
    "collapsed": false,
    "pycharm": {
     "name": "#%% md\n"
    }
   },
   "source": [
    "## Roof Displacement History\n",
    "\n",
    "The result file will be generated and stored in `.h5` file. We can read the file and plot the results."
   ]
  },
  {
   "cell_type": "code",
   "execution_count": null,
   "metadata": {
    "collapsed": false,
    "pycharm": {
     "name": "#%%\n"
    }
   },
   "outputs": [],
   "source": [
    "import h5py\n",
    "import matplotlib.pyplot as plt\n",
    "import glob\n",
    "\n",
    "\n",
    "def plot_result():\n",
    "    h5_file = glob.glob('*U.h5')\n",
    "    if len(h5_file) == 0:\n",
    "        return\n",
    "\n",
    "    plt.figure(figsize=(10, 7))\n",
    "    with h5py.File(h5_file[0], 'r') as result_file:\n",
    "        for group in result_file.values():\n",
    "            for key, data in group.items():\n",
    "                plt.plot(data[:, 0], data[:, 1] / max(y_coor) * 100., label=key)\n",
    "    plt.xlabel('Time (s)')\n",
    "    plt.ylabel('Drift (%)')\n",
    "    plt.legend()\n",
    "    plt.show()\n",
    "\n",
    "\n",
    "plot_result()"
   ]
  },
  {
   "cell_type": "markdown",
   "metadata": {
    "collapsed": false,
    "pycharm": {
     "name": "#%% md\n"
    }
   },
   "source": [
    "Clean up the files to end this example."
   ]
  },
  {
   "cell_type": "code",
   "execution_count": null,
   "metadata": {
    "collapsed": false,
    "pycharm": {
     "name": "#%%\n"
    }
   },
   "outputs": [],
   "source": [
    "for file in file_list:\n",
    "    if file == 'ELNS':\n",
    "        continue\n",
    "    if os.path.exists(file):\n",
    "        os.remove(file)"
   ]
  },
  {
   "cell_type": "markdown",
   "metadata": {
    "pycharm": {
     "name": "#%% md\n"
    }
   },
   "source": [
    "Let's create some TikZ commands to be used to plot plastic hinge distribution."
   ]
  },
  {
   "cell_type": "code",
   "execution_count": null,
   "metadata": {
    "pycharm": {
     "name": "#%%\n"
    }
   },
   "outputs": [],
   "source": [
    "tikz: list = []\n",
    "\n",
    "# generate coordinates to represent nodal positions\n",
    "for node in node_pool.values():\n",
    "    tikz.append(f'\\\\coordinate(N{node.tag})at({node.x / 1E2},{node.y / 1E2});')\n",
    "\n",
    "# draw frame elements\n",
    "for element in element_pool.values():\n",
    "    node_i = element.node_i\n",
    "    node_j = element.node_j\n",
    "    if node_i.x == node_j.x:\n",
    "        # vertical columns\n",
    "        tikz.append(\n",
    "            f'\\\\draw[line width=1mm](N{element.node_i.tag})--(N{element.node_j.tag})node[midway,fill=white,font=\\\\tiny,rotate=90]{{{element.section.name}}};')\n",
    "    else:\n",
    "        # horizontal beams\n",
    "        tikz.append(\n",
    "            f'\\\\draw[line width=1mm](N{element.node_i.tag})--(N{element.node_j.tag})node[midway,fill=white,font=\\\\tiny]{{{element.section.name}}};')\n",
    "\n",
    "hinge_label = '[fill=red,circle,draw,inner sep=0,minimum size=3mm]'\n",
    "\n",
    "h5_file = glob.glob('*YF.h5')\n",
    "if len(h5_file) > 0:\n",
    "    with h5py.File(h5_file[0], 'r') as h_file:\n",
    "        h5_prefix = h5_file[0].split('.')[0]\n",
    "        for g in h_file.values():\n",
    "            for k, v in g.items():\n",
    "                element_tag = int(k.replace(h5_prefix, ''))\n",
    "                node_i = element_pool[element_tag].node_i.tag\n",
    "                node_j = element_pool[element_tag].node_j.tag\n",
    "\n",
    "                if v[:, 1].max() > .5:\n",
    "                    tikz.append(f'\\\\node{hinge_label}at($(N{node_i})!.1!(N{node_j})$){{}};')\n",
    "                if v[:, 2].max() > .5:\n",
    "                    tikz.append(f'\\\\node{hinge_label}at($(N{node_i})!.9!(N{node_j})$){{}};')\n",
    "\n",
    "with open(f'DIST.tex', 'w') as f:\n",
    "    f.write('\\\\begin{tikzpicture}[scale=2]\\n')\n",
    "    f.write('\\n'.join(tikz))\n",
    "    f.write('\\n\\\\end{tikzpicture}\\n')\n",
    "\n",
    "with open(f'DIST.tex', 'r') as f:\n",
    "    print(f.read())"
   ]
  }
 ],
 "metadata": {
  "kernelspec": {
   "display_name": "Python 3 (ipykernel)",
   "language": "python",
   "name": "python3"
  },
  "language_info": {
   "codemirror_mode": {
    "name": "ipython",
    "version": 3
   },
   "file_extension": ".py",
   "mimetype": "text/x-python",
   "name": "python",
   "nbconvert_exporter": "python",
   "pygments_lexer": "ipython3",
   "version": "3.10.4"
  },
  "vscode": {
   "interpreter": {
    "hash": "f22081394c872b3ced99252b95ad4806052465fa5cd514a6921668f90323c92d"
   }
  }
 },
 "nbformat": 4,
 "nbformat_minor": 1
}