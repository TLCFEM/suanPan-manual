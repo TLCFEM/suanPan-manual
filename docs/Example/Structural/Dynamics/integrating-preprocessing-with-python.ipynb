{
 "cells": [
  {
   "cell_type": "markdown",
   "metadata": {
    "pycharm": {
     "name": "#%% md\n"
    }
   },
   "source": [
    "# [★★★★★] Integrating Preprocessing with Python [WIP]\n",
    "\n",
    "Minimum version: v2.4\n",
    "\n",
    "In this example, we demonstrate how to use python to preprocess data by creating a frame structure. This example requires some Python familiarity. However, as we are developing a frame structure which contains mainly frame elements, the procedure is relatively straightforward.\n",
    "\n",
    "## Prerequisites\n",
    "\n",
    "We are going to find section properties from AISC table, which is available online."
   ]
  },
  {
   "cell_type": "code",
   "execution_count": null,
   "metadata": {
    "pycharm": {
     "name": "#%%\n"
    }
   },
   "outputs": [],
   "source": [
    "import pandas\n",
    "\n",
    "section_table = pandas.read_excel(\n",
    "    'https://www.aisc.org/globalassets/aisc/manual/v15.0-shapes-database/aisc-shapes-database-v15.0.xlsx',\n",
    "    sheet_name=1,\n",
    "    usecols='A:CF')\n",
    "print(section_table.head())"
   ]
  },
  {
   "cell_type": "markdown",
   "metadata": {
    "pycharm": {
     "name": "#%% md\n"
    }
   },
   "source": [
    "Section properties such as area and moment of inertia can be extracted from this table using section designations. It is possible to define such a function now."
   ]
  },
  {
   "cell_type": "code",
   "execution_count": null,
   "metadata": {
    "pycharm": {
     "name": "#%%\n"
    }
   },
   "outputs": [],
   "source": [
    "def from_table(designation: str):\n",
    "    index = section_table.index[section_table['AISC_Manual_Label'] == designation].tolist()\n",
    "    assert len(index) == 1\n",
    "    a = section_table.at[index[0], 'A'] # area\n",
    "    sx = section_table.at[index[0], 'Sx'] # elastic modulus\n",
    "    ix = section_table.at[index[0], 'Ix'] # moment of inertia\n",
    "    zx = section_table.at[index[0], 'Zx'] # plastic modulus\n",
    "    return a, sx, ix, zx"
   ]
  },
  {
   "cell_type": "markdown",
   "metadata": {
    "pycharm": {
     "name": "#%% md\n"
    }
   },
   "source": [
    "Then we can use this function to extract section properties from the table. For example,"
   ]
  },
  {
   "cell_type": "code",
   "execution_count": null,
   "metadata": {
    "pycharm": {
     "name": "#%%\n"
    }
   },
   "outputs": [],
   "source": [
    "print(from_table('W44X230'))"
   ]
  },
  {
   "cell_type": "markdown",
   "metadata": {
    "pycharm": {
     "name": "#%% md\n"
    }
   },
   "source": [
    "## Geometry of the Frame Structure\n",
    "\n",
    "For simplicity, we assume the frame structure has the same column/beam section for all the columns/beams on the same floor. Under such a condition, two lists of section designations can be provided so that elements can be created. Similarly, geometry information such as floor height, bay span, as well as floor mass, can be provided in the same way.\n",
    "\n",
    "For example, we can define several lists as follows."
   ]
  },
  {
   "cell_type": "code",
   "execution_count": null,
   "metadata": {
    "pycharm": {
     "name": "#%%\n"
    }
   },
   "outputs": [],
   "source": [
    "girder = ['W21X68', 'W21X68', 'W21X68']  # floor 1 2 3\n",
    "column = ['W14X193', 'W14X159', 'W14X159']  # column 1 2 3\n",
    "mass = [30., 30., 30.]  # floor 1 2 3\n",
    "span = [240., 240.]  # bay span 1 2\n",
    "height = [120., 120., 120.]  # floor height 1 2 3"
   ]
  },
  {
   "cell_type": "markdown",
   "metadata": {
    "pycharm": {
     "name": "#%% md\n"
    }
   },
   "source": [
    "### Generate Node Grid\n",
    "\n",
    "Given that span and height are given, it is possible to calculate the absolute position of the nodes."
   ]
  },
  {
   "cell_type": "code",
   "execution_count": null,
   "metadata": {
    "pycharm": {
     "name": "#%%\n"
    }
   },
   "outputs": [],
   "source": [
    "import numpy as np\n",
    "\n",
    "x_coor = np.cumsum(span)\n",
    "y_coor = np.cumsum(height)\n",
    "x_coor = np.insert(x_coor, 0, 0.)\n",
    "y_coor = np.insert(y_coor, 0, 0.)\n",
    "print(x_coor, y_coor)\n",
    "\n",
    "del span, height"
   ]
  },
  {
   "cell_type": "markdown",
   "metadata": {
    "pycharm": {
     "name": "#%% md\n"
    }
   },
   "source": [
    "By using the above coordinates, we can create a grid of nodes. A simple `Node` class is defined to represent nodes."
   ]
  },
  {
   "cell_type": "code",
   "execution_count": null,
   "metadata": {
    "pycharm": {
     "name": "#%%\n"
    }
   },
   "outputs": [],
   "source": [
    "from dataclasses import dataclass\n",
    "\n",
    "@dataclass\n",
    "class Node:\n",
    "    tag: int\n",
    "    x: float\n",
    "    y: float\n",
    "\n",
    "    def write_to(self, f_handler):\n",
    "        f_handler.write(f'node {self.tag} {self.x:.2f} {self.y:.2f}\\n')\n",
    "\n",
    "node_pool: dict = {}\n",
    "\n",
    "node_grid = np.zeros((len(y_coor), len(x_coor))).astype(int)\n",
    "\n",
    "node_tag = 1\n",
    "with open('node.sp', 'w') as f:\n",
    "    for i in range(len(x_coor)):\n",
    "        for j in range(len(y_coor)):\n",
    "            node = Node(node_tag, x_coor[i], y_coor[j])\n",
    "            node.write_to(f)\n",
    "            node_pool[node_tag] = node\n",
    "            node_grid[j, i] = node_tag\n",
    "            node_tag += 1\n",
    "del node_tag\n",
    "\n",
    "with open('node.sp', 'r') as f:\n",
    "    print(f.read())"
   ]
  },
  {
   "cell_type": "markdown",
   "metadata": {
    "pycharm": {
     "name": "#%% md\n"
    }
   },
   "source": [
    "The `node_grid` can be used to generate elements.\n",
    "\n",
    "### Generate Beam Elements\n",
    "\n",
    "Starting with the second row, beam elements can be generated by looping over each row."
   ]
  },
  {
   "cell_type": "code",
   "execution_count": null,
   "metadata": {
    "pycharm": {
     "name": "#%%\n"
    }
   },
   "outputs": [],
   "source": [
    "from math import sqrt\n",
    "\n",
    "e = 29  # mpsi, Young's modulus\n",
    "fy = .05  # mpsi, yield stress\n",
    "hardening = .01 # isotropic hardening ratio\n",
    "nm_size = 1.15 # initial surface size\n",
    "\n",
    "@dataclass\n",
    "class Section:\n",
    "    tag: int\n",
    "    name: str\n",
    "    fp: float\n",
    "    mp: float\n",
    "    ea: float\n",
    "    ei: float\n",
    "    mult: float\n",
    "\n",
    "    def __init__(self, tag, name):\n",
    "        self.tag = tag\n",
    "        self.name = name\n",
    "        _a, _sx, _ix, _zx = from_table(name)\n",
    "        self.fp = fy * _a\n",
    "        self.mp = fy * _sx\n",
    "        self.ea = e * _a\n",
    "        self.ei = e * _ix\n",
    "        self.mult = fy * _zx\n",
    "\n",
    "    def write_to(self, f_handler, d, h):\n",
    "        f_handler.write(\n",
    "            f'section NM2D3 {self.tag} {self.ea:.4e} {self.ei:.4e} ' # basic section properties\n",
    "            f'{self.fp:.4e} {self.mp:.4e} {d} ' # yield forces\n",
    "            f'{h} 0. 0. {self.mult/self.mp - 1:.4f} 1. ' # hardening configurations\n",
    "            f'0.\\n') # linear density\n",
    "\n",
    "@dataclass\n",
    "class Element:\n",
    "    tag: int\n",
    "    node_i: Node\n",
    "    node_j: Node\n",
    "    section: Section\n",
    "    element_length: float\n",
    "\n",
    "    def __init__(self, tag, _node_i, _node_j, _section):\n",
    "        self.tag = tag\n",
    "        self.node_i = _node_i\n",
    "        self.node_j = _node_j\n",
    "        self.section = _section\n",
    "        self.element_length = sqrt((_node_i.x - _node_j.x) ** 2 + (_node_i.y - _node_j.y) ** 2)\n",
    "\n",
    "    def write_to(self, f_handler):\n",
    "        f_handler.write(f'element NMB21 {self.tag} {self.node_i.tag} {self.node_j.tag} {self.section.tag}\\n')\n",
    "\n",
    "element_tag = 1\n",
    "section_tag = 1\n",
    "with open('beam.sp', 'w') as f:\n",
    "    for i in range(1, len(y_coor)):\n",
    "        section = Section(section_tag, girder[i - 1])\n",
    "        section.write_to(f, nm_size, hardening)\n",
    "        for j in range(len(x_coor) - 1):\n",
    "            node_i = node_grid[i, j]\n",
    "            node_j = node_grid[i, j + 1]\n",
    "            element = Element(element_tag, node_pool[node_i], node_pool[node_j], section)\n",
    "            element.write_to(f)\n",
    "            element_tag += 1\n",
    "        section_tag += 1\n",
    "\n",
    "with open('beam.sp', 'r') as f:\n",
    "    print(f.read())"
   ]
  },
  {
   "cell_type": "markdown",
   "metadata": {
    "pycharm": {
     "name": "#%% md\n"
    }
   },
   "source": [
    "### Generate Column Elements\n",
    "\n",
    "Similarly, column elements can be generated by looping over each column."
   ]
  },
  {
   "cell_type": "code",
   "execution_count": null,
   "metadata": {
    "pycharm": {
     "name": "#%%\n"
    }
   },
   "outputs": [],
   "source": [
    "with open('column.sp', 'w') as f:\n",
    "    for i in range(len(y_coor) - 1):\n",
    "        section = Section(section_tag, column[i])\n",
    "        section.write_to(f, nm_size, hardening)\n",
    "        for j in range(len(x_coor)):\n",
    "            node_i = node_grid[i, j]\n",
    "            node_j = node_grid[i + 1, j]\n",
    "            element = Element(element_tag, node_pool[node_i], node_pool[node_j], section)\n",
    "            element.write_to(f)\n",
    "            element_tag += 1\n",
    "        section_tag += 1\n",
    "\n",
    "with open('column.sp', 'r') as f:\n",
    "    print(f.read())"
   ]
  },
  {
   "cell_type": "markdown",
   "metadata": {
    "collapsed": false,
    "pycharm": {
     "name": "#%% md\n"
    }
   },
   "source": [
    "Finally, let's pack everything into an archive so that it can be [downloaded](three-storey-frame.zip)."
   ]
  },
  {
   "cell_type": "code",
   "execution_count": null,
   "metadata": {
    "collapsed": false,
    "pycharm": {
     "name": "#%%\n"
    }
   },
   "outputs": [],
   "source": [
    "import os\n",
    "from zipfile import ZipFile\n",
    "\n",
    "file_list = ['node.sp', 'beam.sp', 'column.sp']\n",
    "\n",
    "with ZipFile('three-storey-frame.zip', 'w') as f:\n",
    "    for file in file_list:\n",
    "        f.write(file)\n",
    "        os.remove(file)"
   ]
  }
 ],
 "metadata": {
  "kernelspec": {
   "display_name": "Python 3 (ipykernel)",
   "language": "python",
   "name": "python3"
  },
  "language_info": {
   "codemirror_mode": {
    "name": "ipython",
    "version": 3
   },
   "file_extension": ".py",
   "mimetype": "text/x-python",
   "name": "python",
   "nbconvert_exporter": "python",
   "pygments_lexer": "ipython3",
   "version": "3.10.5"
  }
 },
 "nbformat": 4,
 "nbformat_minor": 1
}