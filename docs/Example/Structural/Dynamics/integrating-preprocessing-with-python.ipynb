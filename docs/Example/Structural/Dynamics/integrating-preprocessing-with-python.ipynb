{
 "cells": [
  {
   "cell_type": "markdown",
   "source": [
    "# Integrating Preprocessing with Python\n",
    "\n",
    "In this example, we demonstrate how to use python to preprocess data.\n",
    "\n",
    "## Prerequisites\n",
    "\n",
    "We are going to find section properties from AISC table, which is available online."
   ],
   "metadata": {
    "collapsed": false,
    "pycharm": {
     "name": "#%% md\n"
    }
   }
  },
  {
   "cell_type": "code",
   "execution_count": 26,
   "outputs": [
    {
     "name": "stdout",
     "output_type": "stream",
     "text": [
      "  Type EDI_Std_Nomenclature AISC_Manual_Label T_F      W      A     d    ddet  \\\n",
      "0    W              W44X335           W44X335   F  335.0   98.5    44      44   \n",
      "1    W              W44X290           W44X290   F  290.0   85.4  43.6  43.625   \n",
      "2    W              W44X262           W44X262   F  262.0   77.2  43.3   43.25   \n",
      "3    W              W44X230           W44X230   F  230.0   67.8  42.9  42.875   \n",
      "4    W              W40X655           W40X655   T  655.0  193.0  43.6  43.625   \n",
      "\n",
      "  Ht  h  ...   rts    ho   PA PA2   PB   PC   PD   T  WGi WGo  \n",
      "0  –  –  ...  4.24  42.2  132   –  148  104  120  38  5.5   –  \n",
      "1  –  –  ...   4.2    42  131   –  147  103  119  38  5.5   –  \n",
      "2  –  –  ...  4.17  41.9  131   –  147  102  118  38  5.5   –  \n",
      "3  –  –  ...  4.13  41.7  130   –  146  102  118  38  5.5   –  \n",
      "4  –  –  ...  4.71  40.1  132   –  149  104  121  34  7.5   –  \n",
      "\n",
      "[5 rows x 84 columns]\n"
     ]
    }
   ],
   "source": [
    "import pandas\n",
    "\n",
    "section_table = pandas.read_excel(\n",
    "    'https://www.aisc.org/globalassets/aisc/manual/v15.0-shapes-database/aisc-shapes-database-v15.0.xlsx', sheet_name=1,\n",
    "    usecols='A:CF')\n",
    "print(section_table.head())"
   ],
   "metadata": {
    "collapsed": false,
    "pycharm": {
     "name": "#%%\n"
    }
   }
  },
  {
   "cell_type": "markdown",
   "source": [
    "We are going to extract section properties such as area and moment of inertia from this table using section designations. It is possible to define such a function now."
   ],
   "metadata": {
    "collapsed": false,
    "pycharm": {
     "name": "#%% md\n"
    }
   }
  },
  {
   "cell_type": "code",
   "execution_count": 27,
   "outputs": [],
   "source": [
    "def from_table(designation: str):\n",
    "    index = section_table.index[section_table['AISC_Manual_Label'] == designation].tolist()\n",
    "    assert len(index) == 1\n",
    "    a = section_table.at[index[0], 'A']\n",
    "    sx = section_table.at[index[0], 'Sx']\n",
    "    ix = section_table.at[index[0], 'Ix']\n",
    "    return a, sx, ix"
   ],
   "metadata": {
    "collapsed": false,
    "pycharm": {
     "name": "#%%\n"
    }
   }
  },
  {
   "cell_type": "markdown",
   "source": [
    "## Geometry of the Frame Structure\n",
    "\n",
    "For simplicity, we assume the frame structure has the same column/beam section for all the columns/beams on the same floor. Under such a condition, two lists of section designations can be provided so that elements can be created. Similarly, geometry information such as floor height, bay span, as well as floor mass, can be provided in the same way.\n",
    "\n",
    "For example, we can define several lists as follows."
   ],
   "metadata": {
    "collapsed": false,
    "pycharm": {
     "name": "#%% md\n"
    }
   }
  },
  {
   "cell_type": "code",
   "execution_count": 28,
   "outputs": [],
   "source": [
    "girder = ['W21X68', 'W21X68', 'W21X68']  # floor 1 2 3\n",
    "column = ['W14X193', 'W14X159', 'W14X159']  # column 1 2 3\n",
    "mass = [30., 30., 30.]  # floor 1 2 3\n",
    "span = [240., 240.]  # bay span 1 2\n",
    "height = [120., 120., 120.]  # floor height 1 2 3"
   ],
   "metadata": {
    "collapsed": false,
    "pycharm": {
     "name": "#%%\n"
    }
   }
  },
  {
   "cell_type": "markdown",
   "source": [
    "### Generate Node Grid\n",
    "\n",
    "Given that span and height are given, it is possible to calculate the absolute position of the nodes."
   ],
   "metadata": {
    "collapsed": false,
    "pycharm": {
     "name": "#%% md\n"
    }
   }
  },
  {
   "cell_type": "code",
   "execution_count": 29,
   "outputs": [
    {
     "name": "stdout",
     "output_type": "stream",
     "text": [
      "[  0. 240. 480.] [  0. 120. 240. 360.]\n"
     ]
    }
   ],
   "source": [
    "import numpy as np\n",
    "\n",
    "x_coor = np.cumsum(span)\n",
    "y_coor = np.cumsum(height)\n",
    "x_coor = np.insert(x_coor, 0, 0.)\n",
    "y_coor = np.insert(y_coor, 0, 0.)\n",
    "print(x_coor, y_coor)"
   ],
   "metadata": {
    "collapsed": false,
    "pycharm": {
     "name": "#%%\n"
    }
   }
  },
  {
   "cell_type": "code",
   "execution_count": 30,
   "outputs": [
    {
     "name": "stdout",
     "output_type": "stream",
     "text": [
      "[[ 1  5  9]\n",
      " [ 2  6 10]\n",
      " [ 3  7 11]\n",
      " [ 4  8 12]]\n"
     ]
    }
   ],
   "source": [
    "node_grid = np.zeros((len(y_coor), len(x_coor))).astype(int)\n",
    "\n",
    "node_tag = 1\n",
    "with open('node.sp','w') as f:\n",
    "    for i in range(len(x_coor)):\n",
    "        for j in range(len(y_coor)):\n",
    "            f.write(f'node {node_tag} {x_coor[i]:.2f} {y_coor[j]:.2f}\\n')\n",
    "            node_grid[j, i] = node_tag\n",
    "            node_tag += 1\n",
    "\n",
    "print(node_grid)"
   ],
   "metadata": {
    "collapsed": false,
    "pycharm": {
     "name": "#%%\n"
    }
   }
  },
  {
   "cell_type": "markdown",
   "source": [
    "The `node_grid` can be used to generate elements.\n",
    "\n",
    "### Generate Beam Elements\n",
    "\n",
    "Starting with the second row, beam elements can be generated by looping over each row."
   ],
   "metadata": {
    "collapsed": false,
    "pycharm": {
     "name": "#%% md\n"
    }
   }
  },
  {
   "cell_type": "code",
   "execution_count": 31,
   "outputs": [],
   "source": [
    "element_tag = 1\n",
    "material_tag = 1\n",
    "with open('beam.sp','w') as f:\n",
    "    for i in range(1, len(y_coor)):\n",
    "        a, sx, ix = from_table(girder[i-1])\n",
    "        for j in range(len(x_coor) - 1):\n",
    "            node_i = node_grid[i, j]\n",
    "            node_j = node_grid[i, j + 1]\n",
    "            f.write(f'element EB21 {element_tag} {node_i} {node_j} {a:.3f} {ix:.3f} {material_tag}\\n')\n",
    "            element_tag += 1"
   ],
   "metadata": {
    "collapsed": false,
    "pycharm": {
     "name": "#%%\n"
    }
   }
  },
  {
   "cell_type": "markdown",
   "source": [
    "### Generate Column Elements\n",
    "\n",
    "Similarly, column elements can be generated by looping over each column."
   ],
   "metadata": {
    "collapsed": false,
    "pycharm": {
     "name": "#%% md\n"
    }
   }
  },
  {
   "cell_type": "code",
   "execution_count": 32,
   "outputs": [],
   "source": [
    "with open('column.sp','w') as f:\n",
    "    for i in range(len(y_coor) - 1):\n",
    "        a, sx, ix = from_table(column[i])\n",
    "        for j in range(len(x_coor)):\n",
    "            node_i = node_grid[i, j]\n",
    "            node_j = node_grid[i + 1, j]\n",
    "            f.write(f'element EB21 {element_tag} {node_i} {node_j} {a:.3f} {ix:.3f} {material_tag}\\n')\n",
    "            element_tag += 1"
   ],
   "metadata": {
    "collapsed": false,
    "pycharm": {
     "name": "#%%\n"
    }
   }
  }
 ],
 "metadata": {
  "kernelspec": {
   "display_name": "Python 3",
   "language": "python",
   "name": "python3"
  },
  "language_info": {
   "codemirror_mode": {
    "name": "ipython",
    "version": 2
   },
   "file_extension": ".py",
   "mimetype": "text/x-python",
   "name": "python",
   "nbconvert_exporter": "python",
   "pygments_lexer": "ipython2",
   "version": "2.7.6"
  }
 },
 "nbformat": 4,
 "nbformat_minor": 0
}