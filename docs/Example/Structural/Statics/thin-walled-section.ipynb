{
 "cells": [
  {
   "cell_type": "markdown",
   "id": "c06be2c55d5a2a0b",
   "metadata": {
    "collapsed": false
   },
   "source": [
    "# [★★★★☆] Thin-walled Section For Frame Structures\n",
    "\n",
    "In this example, we demonstrate how to create thin-walled arbitrary sections.\n",
    "\n",
    "To represent conventional, bending moment only sections numerically, only geometry information, such as location and area, is required. This allows the usage of predefined basic shapes, such as rectangles, circles. And complex sections can be built up by using those basic shapes. However, such an approach is not practical for sections involving torsion and warping, as some important sectional properties can only be obtained by analysing the section as a whole. Hence, a general approach that only focuses on section discretisation is used. The discretisation refers to the division of the section into a number of fibres/cells. Those fibres are the smallest units that are used in numerical integration. The users shall provide the corresponding sectional properties.\n",
    "\n",
    "To obtain necessary sectional properties, a section analysis shall be performed. For arbitrary sections, often a general purpose FEA based method shall be used. [This](https://doi.org/10.1002/9780470172667) book provides a thorough discussion on relevant numerical methods.\n",
    "\n",
    "The [`sectionproperties`](https://sectionproperties.readthedocs.io/en/latest/) library implements such a method. It can be used to prepare data to be used in `suanPan`."
   ]
  },
  {
   "cell_type": "markdown",
   "id": "35724acb34cbe3f6",
   "metadata": {
    "collapsed": false
   },
   "source": [
    "## Theory\n",
    "\n",
    "We first discuss what sectional properties are required and provide a theoretical background.\n",
    "\n",
    "The [`Cell3DOS`](../../../Library/Section/SectionOS/Cell3DOS.md) section has the following signature.\n",
    "\n",
    "```text\n",
    "section Cell3DOS (1) (2) (3) (4) (5) (6) [7] [8]\n",
    "# (1) int, unique section tag\n",
    "# (2) double, area\n",
    "# (3) double, sectional coordiante\n",
    "# (4) double, py\n",
    "# (5) double, pz\n",
    "# (6) int, material tag\n",
    "# [7] double, eccentricity/location along y axis, default: 0.0\n",
    "# [8] double, eccentricity/location along z axis, default: 0.0\n",
    "```\n",
    "\n",
    "Apart from the location (coordinates/eccentricities) and area, it requires sectional coordinate (warping function) and its derivatives.\n",
    "\n",
    "The warping function is the conventional one that can be expressed as a function of locations.\n",
    "\n",
    "$$\n",
    "\\omega=\\omega(y,z).\n",
    "$$\n",
    "\n",
    "The integration shall result in a net-zero warping.\n",
    "\n",
    "$$\n",
    "\\int_A\\omega(y,z)\\mathrm{d}A=0.\n",
    "$$\n",
    "\n",
    "Its derivatives along two axes are also required.\n",
    "\n",
    "$$\n",
    "\\dfrac{\\partial\\omega}{\\partial{}y},\\qquad\\dfrac{\\partial\\omega}{\\partial{}z}.\n",
    "$$\n",
    "\n",
    "[Alemdar's thesis](http://hdl.handle.net/1853/22220) uses $$\\gamma=2n\\phi'$$ which is suitable for thin-walled open sections.\n",
    "Here we use general formulation instead for complex, universal, arbitrary sections.\n",
    "Interested readers can refer to [Pilkey's book](https://doi.org/10.1002/9780470172667) for more details."
   ]
  },
  {
   "cell_type": "markdown",
   "id": "aaf59747bd87385",
   "metadata": {
    "collapsed": false
   },
   "source": [
    "## A Simple Example\n",
    "\n",
    "We start with a simple circular example. Let's assume it is centred and has a diameter of $$10$$.\n",
    "\n",
    "We use built-in functionality to create such a geometry and assign a mesh size of $$0.1$$."
   ]
  },
  {
   "cell_type": "code",
   "execution_count": null,
   "id": "dab5b9ac8c86f07e",
   "metadata": {
    "collapsed": false
   },
   "outputs": [],
   "source": [
    "import sectionproperties.pre.library.primitive_sections as sections\n",
    "from sectionproperties.analysis.section import Section\n",
    "\n",
    "# approximate a circle by a polygon\n",
    "geometry = sections.circular_section(d=10, n=64)\n",
    "geometry.create_mesh(mesh_sizes=[0.1])\n",
    "section = Section(geometry)\n",
    "section.plot_mesh(title=\"Circular Section Mesh\")"
   ]
  },
  {
   "cell_type": "markdown",
   "id": "9f0c31f948e589a5",
   "metadata": {
    "collapsed": false
   },
   "source": [
    "The mesh is generated internally using second-order triangular elements (CPS6 in ABAQUS notation).\n",
    "One can check the details of the created elements.\n",
    "The following shows the first element."
   ]
  },
  {
   "cell_type": "code",
   "execution_count": null,
   "id": "3f55a26243dcadae",
   "metadata": {
    "collapsed": false
   },
   "outputs": [],
   "source": [
    "ele = section.elements[0]\n",
    "print(ele)"
   ]
  },
  {
   "cell_type": "markdown",
   "id": "6a97a4cb6698274e",
   "metadata": {
    "collapsed": false
   },
   "source": [
    "### Area\n",
    "\n",
    "The library has implemented basic utility functions to elements, such that basic properties for each element can be conveniently obtained."
   ]
  },
  {
   "cell_type": "code",
   "execution_count": null,
   "id": "bc9dbbcc42a1a8f8",
   "metadata": {
    "collapsed": false
   },
   "outputs": [],
   "source": [
    "print(\"(area, qx, qy, ixx, iyy, ixy, e, g, rho)\")\n",
    "print(ele.geometric_properties())"
   ]
  },
  {
   "cell_type": "markdown",
   "id": "76e35f11647790a8",
   "metadata": {
    "collapsed": false
   },
   "source": [
    "### Locations\n",
    "\n",
    "We assume the triangle element is small enough so that the centroid can represent the location of the element. The centroid can be obtained by averaging the coordinates of the first three nodes."
   ]
  },
  {
   "cell_type": "code",
   "execution_count": null,
   "id": "6ee9cef09d277fc1",
   "metadata": {
    "collapsed": false
   },
   "outputs": [],
   "source": [
    "coords = ele.coords[:, :3]\n",
    "centroid = coords.mean(axis=1)\n",
    "print(centroid)"
   ]
  },
  {
   "cell_type": "markdown",
   "id": "3537595a37bb98bd",
   "metadata": {
    "collapsed": false
   },
   "source": [
    "### Warping Function\n",
    "\n",
    "The library provides a function to calculate the warping function."
   ]
  },
  {
   "cell_type": "code",
   "execution_count": null,
   "id": "a39b669ef8c0eb57",
   "metadata": {
    "collapsed": false
   },
   "outputs": [],
   "source": [
    "from sectionproperties.analysis import solver\n",
    "\n",
    "stiffness, force = section.assemble_torsion()\n",
    "omega = solver.solve_direct_lagrange(stiffness, force)\n",
    "print(omega)\n",
    "print(f\"sum(omega) = {omega.sum()}\")"
   ]
  },
  {
   "cell_type": "markdown",
   "id": "90ff1a25b0ddc877",
   "metadata": {
    "collapsed": false
   },
   "source": [
    "As we are using a circular section as the example, the warping function is zero everywhere.\n",
    "The above method computes the warping in the local coordinate system.\n",
    "If one wants to use the centroid as the origin, one shall translate the coordinates first."
   ]
  },
  {
   "cell_type": "markdown",
   "id": "68f84c6083859ca7",
   "metadata": {
    "collapsed": false
   },
   "source": [
    "### Partial Derivatives\n",
    "\n",
    "To obtain $$\\dfrac{\\partial\\omega}{\\partial{}y}$$ and $$\\dfrac{\\partial\\omega}{\\partial{}z}$$, we use the shape functions."
   ]
  },
  {
   "cell_type": "code",
   "execution_count": null,
   "id": "17e2210c33e9c4f0",
   "metadata": {
    "collapsed": false
   },
   "outputs": [],
   "source": [
    "from sectionproperties.analysis.fea import shape_function\n",
    "\n",
    "N, B, j = shape_function(ele.coords, [0, 1.0 / 3.0, 1.0 / 3.0, 1.0 / 3.0])\n",
    "centre_omega = omega[ele.node_ids].dot(N)\n",
    "centre_partial = B @ omega[ele.node_ids]\n",
    "print(f\"warping function = {centre_omega}\")\n",
    "print(f\"derivatives = {centre_partial}\")"
   ]
  },
  {
   "cell_type": "markdown",
   "source": [
    "Since for circular sections, there is no warping, the corresponding derivatives are trivial."
   ],
   "metadata": {
    "collapsed": false
   },
   "id": "a64e151e049aad42"
  },
  {
   "cell_type": "markdown",
   "id": "d7f2e27d60ce59ee",
   "metadata": {
    "collapsed": false
   },
   "source": [
    "### A Universal Function\n",
    "\n",
    "It appears to be easy to obtain necessary properties for each element. Here we provide a universal function to generate the required data.\n",
    "\n",
    "One shall adjust it accordingly for specific purposes."
   ]
  },
  {
   "cell_type": "code",
   "execution_count": null,
   "id": "11d3383864c87bee",
   "metadata": {
    "collapsed": false
   },
   "outputs": [],
   "source": [
    "from numpy import ndarray, array\n",
    "from sectionproperties.analysis.fea import Tri6\n",
    "\n",
    "\n",
    "class Cell3DOS:\n",
    "    tag: int\n",
    "    area: float\n",
    "    y: float\n",
    "    z: float\n",
    "    omega: float\n",
    "    py: float\n",
    "    pz: float\n",
    "\n",
    "    def __init__(self, ele: Tri6, omega: ndarray = None):\n",
    "        \"\"\"\n",
    "        If `omega` is None, no warping is considered.\n",
    "        \"\"\"\n",
    "\n",
    "        N, B, self.area = shape_function(ele.coords, array([0, 1.0 / 3.0, 1.0 / 3.0, 1.0 / 3.0]))\n",
    "        self.tag = ele.el_id + 1  # el_id is zero-based\n",
    "        self.y, self.z = ele.coords[:, :3].mean(axis=1)\n",
    "        self.omega = omega.dot(N) if omega is not None else 0\n",
    "        self.py, self.pz = (B @ omega) if omega is not None else (0, 0)\n",
    "\n",
    "    def export(self):\n",
    "        return (\n",
    "            f\"section Cell3DOS\"\n",
    "            f\" {self.tag}\"\n",
    "            f\" {self.area:+E}\"\n",
    "            f\" {self.omega:+E}\"\n",
    "            f\" {self.py:+E}\"\n",
    "            f\" {self.pz:+E}\"\n",
    "            # f\" $mat_tag\"\n",
    "            f\" 1\"\n",
    "            f\" {self.y:+E}\"\n",
    "            f\" {self.z:+E}\"\n",
    "        )\n",
    "\n",
    "\n",
    "def to_cell3dos(geometry, *, no_warping: bool = False):\n",
    "    section = Section(geometry)\n",
    "    if no_warping:\n",
    "        return [Cell3DOS(ele) for ele in section.elements]\n",
    "\n",
    "    # section.calculate_geometric_properties()\n",
    "    # for ele in section.elements:\n",
    "    #     ele.coords[0, :] -= section.section_props.cx\n",
    "    #     ele.coords[1, :] -= section.section_props.cy\n",
    "    stiffness, force = section.assemble_torsion()\n",
    "    omega = solver.solve_direct_lagrange(stiffness, force)\n",
    "\n",
    "    return [Cell3DOS(ele, omega[ele.node_ids]) for ele in section.elements]"
   ]
  },
  {
   "cell_type": "markdown",
   "id": "a0e9d6463350d8a0",
   "metadata": {
    "collapsed": false
   },
   "source": [
    "Now it is possible to pass in a geometry, and call the export function to generate cell data."
   ]
  },
  {
   "cell_type": "code",
   "execution_count": null,
   "id": "5d93eaa7d593df9b",
   "metadata": {
    "collapsed": false
   },
   "outputs": [],
   "source": [
    "cell3dos = to_cell3dos(geometry)\n",
    "\n",
    "with open(\"cell3dos.sp\", \"w\") as f:\n",
    "    for cell in cell3dos:\n",
    "        f.write(cell.export() + \"\\n\")\n",
    "\n",
    "    f.write(f\"section Fibre3DOS {1 + len(cell3dos)} \")\n",
    "    f.write(\" \".join([str(cell.tag) for cell in cell3dos]) + \"\\n\")"
   ]
  },
  {
   "cell_type": "markdown",
   "id": "6d7c2db70f268126",
   "metadata": {
    "collapsed": false
   },
   "source": [
    "### Validation\n",
    "\n",
    "Now it is possible to create a simple single element model to validate the data. Remember to change the material tag accordingly.\n",
    "\n",
    "```text\n",
    "node 1 0 0 0\n",
    "node 2 1 0 0\n",
    "material ElasticOS 1 2. 0. ! <--- so that G=1\n",
    "file cell3dos.sp\n",
    "orientation B3DOSL 1 0. 0. 1.\n",
    "element B31OS 1 1 2 1203 1 6 ! <--- 1203 is the tag for Fibre3DOS section\n",
    "fix2 1 E 1\n",
    "displacement 1 0 1E-3 4 2\n",
    "step static 1\n",
    "set ini_step_size 1E-1\n",
    "set fixed_step_size true\n",
    "analyze\n",
    "peek node 2\n",
    "exit\n",
    "```\n",
    "\n",
    "The nodal displacement and force are as follows.\n",
    "\n",
    "```text\n",
    "Node 2:\n",
    "Coordinate:\n",
    "  1.0000e+00  0.0000e+00  0.0000e+00\n",
    "Displacement:\n",
    " -6.2326e-06  7.6478e-12  4.5576e-11  1.0000e-03 -9.1148e-11  1.5311e-11  1.0000e-03\n",
    "Resistance:\n",
    " -3.2660e-19 -2.6131e-20 -1.3261e-19  9.7745e-01  6.2923e-19 -8.1782e-20  4.8572e-17\n",
    "```\n",
    "\n",
    "The circular section has a torsional constant as follows.\n",
    "\n",
    "$$\n",
    "J=\\dfrac{1}{2}\\pi{}r^4=\\dfrac{1}{2}\\pi\\left(\\dfrac{10}{2}\\right)^4=981.7.\n",
    "$$\n",
    "\n",
    "This is about the numerical result $$977.5$$.\n",
    "\n",
    "## W-Section Example\n",
    "\n",
    "In this example, we manually create a W section. It corresponds to the `W36X330` section."
   ]
  },
  {
   "cell_type": "code",
   "execution_count": null,
   "id": "8972a1b23b6585ce",
   "metadata": {
    "collapsed": false
   },
   "outputs": [],
   "source": [
    "from sectionproperties.pre.geometry import Geometry\n",
    "\n",
    "bf = 16.6\n",
    "tw = 1.02\n",
    "tf = 1.85\n",
    "d = 37.7\n",
    "\n",
    "y_offset = 0\n",
    "z_offset = 0\n",
    "\n",
    "points = [\n",
    "    [-bf / 2, -d / 2],\n",
    "    [bf / 2, -d / 2],\n",
    "    [bf / 2, -d / 2 + tf],\n",
    "    [tw / 2, -d / 2 + tf],\n",
    "    [tw / 2, d / 2 - tf],\n",
    "    [bf / 2, d / 2 - tf],\n",
    "    [bf / 2, d / 2],\n",
    "    [-bf / 2, d / 2],\n",
    "    [-bf / 2, d / 2 - tf],\n",
    "    [-tw / 2, d / 2 - tf],\n",
    "    [-tw / 2, -d / 2 + tf],\n",
    "    [-bf / 2, -d / 2 + tf],\n",
    "]\n",
    "\n",
    "for p in points:\n",
    "    p[0] += y_offset\n",
    "    p[1] += z_offset\n",
    "\n",
    "facets = [\n",
    "    [0, 1],\n",
    "    [1, 2],\n",
    "    [2, 3],\n",
    "    [3, 4],\n",
    "    [4, 5],\n",
    "    [5, 6],\n",
    "    [6, 7],\n",
    "    [7, 8],\n",
    "    [8, 9],\n",
    "    [9, 10],\n",
    "    [10, 11],\n",
    "    [11, 0],\n",
    "]\n",
    "\n",
    "holes = []\n",
    "control_points = [[y_offset, z_offset]]\n",
    "geometry = Geometry.from_points(points, facets, control_points)\n",
    "\n",
    "geometry.create_mesh(mesh_sizes=.2)\n",
    "geometry.plot_geometry()\n",
    "\n",
    "cell3dos = to_cell3dos(geometry, no_warping=False)\n",
    "\n",
    "with open(\"w36x330.sp\", \"w\") as f:\n",
    "    for cell in cell3dos:\n",
    "        f.write(cell.export() + \"\\n\")\n",
    "\n",
    "    f.write(f\"section Fibre3DOS {1 + len(cell3dos)} \")\n",
    "    f.write(\" \".join([str(cell.tag) for cell in cell3dos]) + \"\\n\")"
   ]
  }
 ],
 "metadata": {
  "kernelspec": {
   "display_name": "Python 3",
   "language": "python",
   "name": "python3"
  },
  "language_info": {
   "codemirror_mode": {
    "name": "ipython",
    "version": 3
   },
   "file_extension": ".py",
   "mimetype": "text/x-python",
   "name": "python",
   "nbconvert_exporter": "python",
   "pygments_lexer": "ipython3",
   "version": "3.9.18"
  }
 },
 "nbformat": 4,
 "nbformat_minor": 5
}
