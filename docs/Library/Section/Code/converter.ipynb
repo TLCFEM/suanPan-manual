{
 "cells": [
  {
   "cell_type": "code",
   "execution_count": 1,
   "metadata": {},
   "outputs": [],
   "source": [
    "import pandas\n",
    "\n",
    "section_table = pandas.read_excel(\n",
    "    \"https://www.aisc.org/globalassets/product-files-not-searched/manuals/aisc-shapes-database-v16.0.xlsx\",\n",
    "    sheet_name=1,\n",
    "    storage_options={\"User-Agent\": \"Mozilla/5.0\"},\n",
    "    usecols=\"A:CF\",\n",
    ")\n"
   ]
  },
  {
   "cell_type": "code",
   "execution_count": null,
   "metadata": {},
   "outputs": [],
   "source": [
    "for _, row in section_table[\n",
    "    section_table[\"AISC_Manual_Label\"].str.startswith((\"WT\", \"MT\", \"ST\"))\n",
    "].iterrows():\n",
    "    designation = row[\"AISC_Manual_Label\"]\n",
    "    tf = row[\"tf\"]\n",
    "    tw = row[\"tw\"]\n",
    "    d = row[\"d\"]\n",
    "    bf = row[\"bf\"]\n",
    "\n",
    "    print(\n",
    "        f'if(is_equal(type, \"{designation}\")) return {{{bf:.3f}, {tf:.3f}, {d-tf:.3f}, {tw:.3f}}};'\n",
    "    )"
   ]
  },
  {
   "cell_type": "code",
   "execution_count": null,
   "metadata": {},
   "outputs": [],
   "source": [
    "for _, row in section_table[\n",
    "    section_table[\"AISC_Manual_Label\"].str.startswith((\"W\", \"M\", \"S\", \"HP\"))\n",
    "].iterrows():\n",
    "    designation = row[\"AISC_Manual_Label\"]\n",
    "    if \"T\" in designation or \"MC\" in designation:\n",
    "        continue\n",
    "\n",
    "    tf = row[\"tf\"]\n",
    "    tw = row[\"tw\"]\n",
    "    d = row[\"d\"]\n",
    "    bf = row[\"bf\"]\n",
    "\n",
    "    print(\n",
    "        f'if(is_equal(type, \"{designation}\")) return {{{bf:.3f}, {tf:.3f}, {bf:.3f}, {tf:.3f}, {d-2*tf:.3f}, {tw:.3f}}};'\n",
    "    )\n"
   ]
  },
  {
   "cell_type": "code",
   "execution_count": null,
   "metadata": {},
   "outputs": [],
   "source": [
    "hss_sections = []\n",
    "\n",
    "for _, row in section_table[\n",
    "    section_table[\"AISC_Manual_Label\"].str.startswith(\"HSS\")\n",
    "].iterrows():\n",
    "    designation = row[\"AISC_Manual_Label\"]\n",
    "    ht = row[\"Ht\"]\n",
    "    b = row[\"B\"]\n",
    "    tdes = row[\"tdes\"]\n",
    "\n",
    "    if ht == \"–\":\n",
    "        continue\n",
    "\n",
    "    hss_sections.append(designation)\n",
    "\n",
    "    print(\n",
    "        f'if(is_equal(type, \"{designation}\")) return {{{b-tdes:.3f}, {ht-tdes:.3f}, {tdes:.3f}}};'\n",
    "    )"
   ]
  },
  {
   "cell_type": "code",
   "execution_count": null,
   "metadata": {},
   "outputs": [],
   "source": [
    "print(\",\".join(hss_sections))"
   ]
  }
 ],
 "metadata": {
  "kernelspec": {
   "display_name": "venv",
   "language": "python",
   "name": "python3"
  },
  "language_info": {
   "codemirror_mode": {
    "name": "ipython",
    "version": 3
   },
   "file_extension": ".py",
   "mimetype": "text/x-python",
   "name": "python",
   "nbconvert_exporter": "python",
   "pygments_lexer": "ipython3",
   "version": "3.11.10"
  }
 },
 "nbformat": 4,
 "nbformat_minor": 2
}
