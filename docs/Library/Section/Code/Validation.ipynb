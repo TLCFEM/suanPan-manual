{
 "cells": [
  {
   "cell_type": "markdown",
   "metadata": {},
   "source": [
    "# Validation of Code Section Designations\n",
    "\n",
    "There is a built-in database of some standard sections used in various design standards.\n",
    "\n",
    "In this page, we try to validate the section properties of some designations.\n",
    "To this end, we mainly use US I and T designations, which are compiled and well documented in the [AISC Shapes Database](https://www.aisc.org/publications/steel-construction-manual-resources/16th-ed-steel-construction-manual/aisc-shapes-database-v16.0/).\n",
    "\n",
    "## Some Utilities\n",
    "\n",
    "What we are going to do in the following is to prepare the database."
   ]
  },
  {
   "cell_type": "code",
   "execution_count": null,
   "metadata": {},
   "outputs": [],
   "source": [
    "import pandas\n",
    "\n",
    "section_table = pandas.read_excel(\n",
    "    \"https://www.aisc.org/globalassets/product-files-not-searched/manuals/aisc-shapes-database-v16.0.xlsx\",\n",
    "    sheet_name=1,\n",
    "    storage_options={\"User-Agent\": \"Mozilla/5.0\"},\n",
    "    usecols=\"A:CF\",\n",
    ")\n",
    "print(section_table.head())"
   ]
  },
  {
   "cell_type": "markdown",
   "metadata": {},
   "source": [
    "We define a function to get the area, moment of inertia about the strong and weak axes."
   ]
  },
  {
   "cell_type": "code",
   "execution_count": 2,
   "metadata": {},
   "outputs": [],
   "source": [
    "def get_properties(designation: str):\n",
    "    section = section_table[section_table[\"AISC_Manual_Label\"] == designation]\n",
    "    return section[\"A\"].values[0], section[\"Ix\"].values[0], section[\"Iy\"].values[0]"
   ]
  },
  {
   "cell_type": "markdown",
   "metadata": {},
   "source": [
    "## Analysis Template\n",
    "\n",
    "Next, we define the function to run the analysis and extract the result.\n",
    "\n",
    "The following is the template model file that will be used.\n",
    "A few things to note:\n",
    "\n",
    "1. The material is assumed to be elastic with unit elastic modulus.\n",
    "2. The default integration scheme is used for each designation.\n",
    "3. A unit displacement load is applied to axial, strong axis bending and weak axis bending.\n",
    "4. The `US3DC` category is used, it automatically recentre the section."
   ]
  },
  {
   "cell_type": "code",
   "execution_count": 3,
   "metadata": {},
   "outputs": [],
   "source": [
    "template = \"\"\"\n",
    "node 1 0 0 0\n",
    "\n",
    "material Elastic1D 1 1\n",
    "\n",
    "section US3DC $designation$ 1 1 1\n",
    "\n",
    "element SingleSection3D 1 1 1\n",
    "\n",
    "displacement 1 0 1 1 1\n",
    "displacement 2 0 1 2 1\n",
    "displacement 3 0 1 3 1\n",
    "\n",
    "step static 1 1\n",
    "set ini_step_size 1\n",
    "\n",
    "analyze\n",
    "\n",
    "peek node 1\n",
    "\n",
    "exit\n",
    "\"\"\""
   ]
  },
  {
   "cell_type": "markdown",
   "metadata": {},
   "source": [
    "By using the above settings, the resistances on three DoFs are effectively the area and moments of inertia.\n",
    "\n",
    "## Extract Results\n",
    "\n",
    "To extract the data, we process the output."
   ]
  },
  {
   "cell_type": "code",
   "execution_count": 4,
   "metadata": {},
   "outputs": [],
   "source": [
    "import subprocess\n",
    "import tempfile\n",
    "\n",
    "\n",
    "def run_analysis(designation: str):\n",
    "    with tempfile.NamedTemporaryFile(delete_on_close=False) as fp:\n",
    "        with open(fp.name, \"w\") as f:\n",
    "            f.write(template.replace(\"$designation$\", designation))\n",
    "\n",
    "        result = (\n",
    "            subprocess.check_output([\"suanpan\", \"-nu\", \"-nc\", \"-f\", fp.name])\n",
    "            .decode(\"utf-8\")\n",
    "            .splitlines()\n",
    "        )\n",
    "\n",
    "    for i, line in enumerate(result):\n",
    "        if line.startswith(\"Resistance\"):\n",
    "            return [float(x) for x in result[i + 1].split()]"
   ]
  },
  {
   "cell_type": "code",
   "execution_count": 5,
   "metadata": {},
   "outputs": [],
   "source": [
    "all_results = {}\n",
    "\n",
    "\n",
    "def validate(designation: str):\n",
    "    if result := run_analysis(designation):\n",
    "        all_results[designation] = [\n",
    "            x / y for x, y in zip(result, get_properties(designation))\n",
    "        ]"
   ]
  },
  {
   "cell_type": "markdown",
   "metadata": {},
   "source": [
    "## Collect All Sections\n",
    "\n",
    "We can now iterate over all I and T sections."
   ]
  },
  {
   "cell_type": "code",
   "execution_count": 6,
   "metadata": {},
   "outputs": [],
   "source": [
    "for _, row in section_table[\n",
    "    section_table[\"AISC_Manual_Label\"].str.startswith((\"W\", \"M\", \"S\", \"HP\", \"HSS\"))\n",
    "].iterrows():\n",
    "    designation = row[\"AISC_Manual_Label\"]\n",
    "    # ignore C sections\n",
    "    if designation.startswith(\"MC\"):\n",
    "        continue\n",
    "\n",
    "    # ignore pipes\n",
    "    if designation.startswith(\"HSS\") and row[\"Ht\"] == \"–\":\n",
    "        continue\n",
    "\n",
    "    validate(designation)"
   ]
  },
  {
   "cell_type": "code",
   "execution_count": null,
   "metadata": {},
   "outputs": [],
   "source": [
    "import matplotlib.pyplot as plt\n",
    "\n",
    "\n",
    "fig = plt.figure(figsize=(100, 40), tight_layout=True)\n",
    "\n",
    "\n",
    "hss_results = {k: v for k, v in all_results.items() if k.startswith(\"HSS\")}\n",
    "i_results = {k: v for k, v in all_results.items() if not k.startswith(\"HSS\")}\n",
    "\n",
    "counter = 0\n",
    "\n",
    "\n",
    "def plot(title, index, results):\n",
    "    values = [x[index] for x in results.values()]\n",
    "    min_value = min(values)\n",
    "    max_value = max(values)\n",
    "    colors = [\"red\" if abs(x - 1) > 0.05 else \"green\" for x in values]\n",
    "    global counter\n",
    "    counter += 1\n",
    "    ax = fig.add_subplot(610 + counter)\n",
    "    ax.bar(results.keys(), values, color=colors)\n",
    "    ax.set_ylabel(\"Numerical/Analytical\")\n",
    "    ax.set_xlabel(\"Section\")\n",
    "    ax.set_ybound(min_value - 0.02, max_value + 0.01)\n",
    "    ax.set_xlim(-1, len(results))\n",
    "    ax.grid()\n",
    "\n",
    "    for i, v in enumerate(values):\n",
    "        ax.text(\n",
    "            i, min_value - 0.01, f\"{v:.3f}\", horizontalalignment=\"center\", rotation=90\n",
    "        )\n",
    "\n",
    "    ax.set_title(title)\n",
    "    ax.set_xticks(ax.get_xticks())\n",
    "    ax.set_xticklabels(ax.get_xticklabels(), rotation=90)\n",
    "\n",
    "\n",
    "plot(\"Area\", 0, hss_results)\n",
    "plot(\"Strong Axis Moment of Inertia\", 1, hss_results)\n",
    "plot(\"Weak Axis Moment of Inertia\", 2, hss_results)\n",
    "plot(\"Area\", 0, i_results)\n",
    "plot(\"Strong Axis Moment of Inertia\", 1, i_results)\n",
    "plot(\"Weak Axis Moment of Inertia\", 2, i_results)\n"
   ]
  },
  {
   "cell_type": "markdown",
   "metadata": {},
   "source": [
    "## Area\n",
    "\n",
    "In general, the area can be relatively accurately computed.\n",
    "However, as all those sections are internally modelled by three flat pieces, the root fillet cannot be accounted for.\n",
    "As a result, the numerical area is often smaller than the reference value.\n",
    "\n",
    "Some very light M shapes cannot be well approximated.\n",
    "\n",
    "## Strong Axis Bending\n",
    "\n",
    "Some very heavy T sections tend to have poor strong axis moment of inertia.\n",
    "In this shapes, the thickness of flange accounts for a significant portion of the overall depth.\n",
    "The normal stress in the flange presents gradient.\n",
    "In the meantime, there is only one layer of integration points along the thickness of flange, which is not accurate enough in this case.\n",
    "\n",
    "## Weak Axis Bending\n",
    "\n",
    "The tapered shapes tend to have more material towards the center, as a result, the weak axis moment of inertia is smaller.\n",
    "It is modelled by a flat rectangle in numerical models, this overestimate the moment of inertia, mainly for S and ST shapes."
   ]
  },
  {
   "cell_type": "code",
   "execution_count": 8,
   "metadata": {},
   "outputs": [],
   "source": [
    "fig.savefig(\"us.pdf\")"
   ]
  },
  {
   "cell_type": "markdown",
   "metadata": {},
   "source": [
    "The figures can be downloaded: [us](../us.pdf).\n",
    "\n",
    "The following is the script to generate autocompletion.\n",
    "Readers can safely ignore."
   ]
  },
  {
   "cell_type": "code",
   "execution_count": 9,
   "metadata": {},
   "outputs": [],
   "source": [
    "us_section = {}\n",
    "\n",
    "for key, value in all_results.items():\n",
    "    us_section[f\"{key}-2D\"] = {\n",
    "        \"prefix\": key,\n",
    "        \"description\": f\"US 2D section {key}, accuracy: {value[0]:.2f}/{value[1]:.2f}\",\n",
    "        \"body\": [\n",
    "            f\"section US2D {key} \" + \"${1:(1)} ${2:(2)} ${3:[3]} ${4:[4]} ${5:[5]}\",\n",
    "            \"# (1) int, unique tag\",\n",
    "            \"# (2) int, material tag\",\n",
    "            \"# [3] double, scale, default: 1.0\",\n",
    "            \"# [4] int, number of integration points, default: 6\",\n",
    "            \"# [5] double, eccentricity, default: 0.0\",\n",
    "            \"\",\n",
    "        ],\n",
    "    }\n",
    "    us_section[f\"{key}-3D\"] = {\n",
    "        \"prefix\": key,\n",
    "        \"description\": f\"US 3D section {key}, accuracy: {value[0]:.2f}/{value[1]:.2f}/{value[2]:.2f}\",\n",
    "        \"body\": [\n",
    "            f\"section US3D {key} \"\n",
    "            + \"${1:(1)} ${2:(2)} ${3:[3]} ${4:[4]} ${5:[5]} ${6:[6]}\",\n",
    "            \"# (1) int, unique tag\",\n",
    "            \"# (2) int, material tag\",\n",
    "            \"# [3] double, scale, default: 1.0\",\n",
    "            \"# [4] int, number of integration points, default: 6\",\n",
    "            \"# [5] double, eccentricity of y axis, default: 0.0\",\n",
    "            \"# [6] double, eccentricity of z axis, default: 0.0\",\n",
    "            \"\",\n",
    "        ],\n",
    "    }"
   ]
  },
  {
   "cell_type": "code",
   "execution_count": 10,
   "metadata": {},
   "outputs": [],
   "source": [
    "import json\n",
    "\n",
    "with open(\"us_sections_completion.json\", \"w\") as f:\n",
    "    json.dump({k: v for k, v in sorted(us_section.items())}, f, indent=4)"
   ]
  },
  {
   "cell_type": "code",
   "execution_count": null,
   "metadata": {},
   "outputs": [],
   "source": [
    "highlighting = []\n",
    "for key in sorted(all_results.keys()):\n",
    "    highlighting.append(\n",
    "        {\n",
    "            \"name\": \"support.constant.section\",\n",
    "            \"match\": \"\\\\b(?i)\" + key.replace(\".\", \"\\\\.\") + \"\\\\b\",\n",
    "        },\n",
    "    )\n",
    "\n",
    "with open(\"us_sections_highlight.json\", \"w\") as f:\n",
    "    json.dump(highlighting, f, indent=4)\n",
    "\n",
    "print(\n",
    "    r\"\\b(?i)(\"\n",
    "    + \"|\".join([x.replace(\".\", r\"\\.\") for x in sorted(all_results.keys())])\n",
    "    + r\")\\b\"\n",
    ")"
   ]
  }
 ],
 "metadata": {
  "kernelspec": {
   "display_name": ".venv",
   "language": "python",
   "name": "python3"
  },
  "language_info": {
   "codemirror_mode": {
    "name": "ipython",
    "version": 3
   },
   "file_extension": ".py",
   "mimetype": "text/x-python",
   "name": "python",
   "nbconvert_exporter": "python",
   "pygments_lexer": "ipython3",
   "version": "3.12.7"
  }
 },
 "nbformat": 4,
 "nbformat_minor": 2
}
