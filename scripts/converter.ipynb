{
 "cells": [
  {
   "cell_type": "code",
   "execution_count": 2,
   "metadata": {},
   "outputs": [],
   "source": [
    "import pandas\n",
    "\n",
    "section_table = pandas.read_excel(\n",
    "    \"https://www.aisc.org/globalassets/product-files-not-searched/manuals/aisc-shapes-database-v16.0.xlsx\",\n",
    "    sheet_name=1,\n",
    "    storage_options={\"User-Agent\": \"Mozilla/5.0\"},\n",
    "    usecols=\"A:CF\",\n",
    ")\n"
   ]
  },
  {
   "cell_type": "code",
   "execution_count": null,
   "metadata": {},
   "outputs": [],
   "source": [
    "for _, row in section_table[\n",
    "    section_table[\"AISC_Manual_Label\"].str.startswith((\"WT\", \"MT\", \"ST\"))\n",
    "].iterrows():\n",
    "    designation = row[\"AISC_Manual_Label\"]\n",
    "    tf = row[\"tf\"]\n",
    "    tw = row[\"tw\"]\n",
    "    d = row[\"d\"]\n",
    "    bf = row[\"bf\"]\n",
    "\n",
    "    print(\n",
    "        f'if(is_equal(type, \"{designation}\")) return {{{bf:.3f}, {tf:.3f}, {d-tf:.3f}, {tw:.3f}}};'\n",
    "    )"
   ]
  },
  {
   "cell_type": "code",
   "execution_count": null,
   "metadata": {},
   "outputs": [],
   "source": [
    "for _, row in section_table[\n",
    "    section_table[\"AISC_Manual_Label\"].str.startswith((\"W\", \"M\", \"S\", \"HP\"))\n",
    "].iterrows():\n",
    "    designation = row[\"AISC_Manual_Label\"]\n",
    "    if \"T\" in designation or \"MC\" in designation:\n",
    "        continue\n",
    "\n",
    "    tf = row[\"tf\"]\n",
    "    tw = row[\"tw\"]\n",
    "    d = row[\"d\"]\n",
    "    bf = row[\"bf\"]\n",
    "\n",
    "    print(\n",
    "        f'if(is_equal(type, \"{designation}\")) return {{{bf:.3f}, {tf:.3f}, {bf:.3f}, {tf:.3f}, {d-2*tf:.3f}, {tw:.3f}}};'\n",
    "    )\n"
   ]
  },
  {
   "cell_type": "code",
   "execution_count": null,
   "metadata": {},
   "outputs": [],
   "source": [
    "for _, row in section_table[\n",
    "    section_table[\"AISC_Manual_Label\"].str.startswith(\"HSS\")\n",
    "].iterrows():\n",
    "    designation = row[\"AISC_Manual_Label\"]\n",
    "\n",
    "    if row[\"Ht\"] == \"–\":\n",
    "        continue\n",
    "\n",
    "    ht = (row[\"Ht\"] + row[\"h\"]) / 2\n",
    "    b = (row[\"B\"] + float(row[\"b\"])) / 2\n",
    "    tdes = row[\"tdes\"]\n",
    "\n",
    "    print(\n",
    "        f'if(is_equal(type, \"{designation}\")) return {{{b:.3f}, {ht:.3f}, {tdes:.3f}}};'\n",
    "    )"
   ]
  },
  {
   "cell_type": "code",
   "execution_count": null,
   "metadata": {},
   "outputs": [],
   "source": [
    "for _, row in section_table[\n",
    "    section_table[\"AISC_Manual_Label\"].str.startswith(\"HSS\")\n",
    "].iterrows():\n",
    "    designation = row[\"AISC_Manual_Label\"]\n",
    "\n",
    "    if row[\"OD\"] == \"–\":\n",
    "        continue\n",
    "\n",
    "    radius = row[\"OD\"]\n",
    "    tdes = row[\"tdes\"]\n",
    "\n",
    "    print(\n",
    "        f'if(is_equal(type, \"{designation}\")) return {{{radius/2:.3f}, {tdes:.3f}}};'\n",
    "    )"
   ]
  }
 ],
 "metadata": {
  "kernelspec": {
   "display_name": ".venv",
   "language": "python",
   "name": "python3"
  },
  "language_info": {
   "codemirror_mode": {
    "name": "ipython",
    "version": 3
   },
   "file_extension": ".py",
   "mimetype": "text/x-python",
   "name": "python",
   "nbconvert_exporter": "python",
   "pygments_lexer": "ipython3",
   "version": "3.12.7"
  }
 },
 "nbformat": 4,
 "nbformat_minor": 2
}
